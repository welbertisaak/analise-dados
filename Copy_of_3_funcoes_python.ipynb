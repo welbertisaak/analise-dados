{
  "nbformat": 4,
  "nbformat_minor": 0,
  "metadata": {
    "kernelspec": {
      "display_name": "Python 3",
      "language": "python",
      "name": "python3"
    },
    "language_info": {
      "codemirror_mode": {
        "name": "ipython",
        "version": 3
      },
      "file_extension": ".py",
      "mimetype": "text/x-python",
      "name": "python",
      "nbconvert_exporter": "python",
      "pygments_lexer": "ipython3",
      "version": "3.7.4"
    },
    "colab": {
      "name": "Copy of 3_funcoes_python.ipynb",
      "provenance": [],
      "include_colab_link": true
    }
  },
  "cells": [
    {
      "cell_type": "markdown",
      "metadata": {
        "id": "view-in-github",
        "colab_type": "text"
      },
      "source": [
        "<a href=\"https://colab.research.google.com/github/welbertisaak/analise-dados/blob/master/Copy_of_3_funcoes_python.ipynb\" target=\"_parent\"><img src=\"https://colab.research.google.com/assets/colab-badge.svg\" alt=\"Open In Colab\"/></a>"
      ]
    },
    {
      "cell_type": "markdown",
      "metadata": {
        "id": "LjqOI-fZabGp",
        "colab_type": "text"
      },
      "source": [
        "# Funções\n",
        "\n",
        "Métodos são blocos de códigos reutilizáveis que realizam tarefas específicas dentro de um programa. Em Python, definimos funções usando a palavra-chave *def*, seguida pelo nome da função, a lista formal de parâmetros entre parêntesis, e, finalizando a assinatura do método com dois pontos (:). É importante lembrar que todas as instruções após a assinatura do método e que formam o corpo da função, devem ser identadas para funcionamento correto do código.\n",
        "\n",
        "```python\n",
        "def soma(a, b):\n",
        "    \"\"\"Retorna a soma de dois números inteiros\"\"\"\n",
        "    return a + b;\n",
        "\n",
        "\n",
        "# Exemplo de uso da função\n",
        "resultado_soma = soma(12, 15) \n",
        "print(resultado_soma) # Saída: 27\n",
        "\n",
        "```\n",
        "\n",
        "Você deve ter notado o comentário logo após a assinatura do método; este tipo de comentário é o que chamamos de *docstring*, e serve para documentarmos as funções para posteriormente, gerarmos automaticamente com auxílio de ferramentas, uma documentação online ou impressa do seu programa. Por isso, comente sempre seu código e escreva-o de maneira mais clara possível para que outras pessoas consigam ler e compreender facilmente o que seu código faz.\n",
        "\n",
        "## Declaração de Argumentos\n",
        "\n",
        "Existem 3 formas diferentes, que podem ser combinadas entre si, para definirmos funções com número variável de argumentos, são elas:\n",
        "\n",
        "**1. Valores Padrão de Argumento**: declaramos um valor padrão para um ou mais argumentos no seguinte formato: *\"arg = value\"*; de tal forma que damos a opção de não especificar valores para tais argumentos e usarmos os valores padrão definidos.\n",
        "\n",
        "```python\n",
        "def exibir_mensagem(mensagem, cortar_apos = 4):\n",
        "    print(message[:cortar_apos]\n",
        "\n",
        "# Exemplo de uso da função\n",
        "exibir_mensagem(\"mensagem\")     # Saída: mens\n",
        "exibir_mensagem(\"mensagem\", 6)  # Saída: mensag\n",
        "```\n",
        "\n",
        "**2. Argumentos por Palavras-Chave**: semelhante a técnica anterior, argumentos por palavra-chave nós declaramos os argumentos no formato *\"arg = value\"*, lembrando que em uma chamada de função as variáveis passadas como parâmetro devem seguir a mesma ordem dos argumentos na assinatura do método.\n",
        "\n",
        "```python\n",
        "def desenha_retangulo(x, y, width = 800, height = 600):\n",
        "    # Instruções\n",
        "    \n",
        "# Exemplo de uso da função\n",
        "desenha_retangulo(0, 0)                               # Argumento por posição usando valores padrão do restante \n",
        "desenha_retangulo(0, 0, width = 1280)                 # Argumento com uma palavra-chave\n",
        "desenha_retangulo(0, 0, width = 1280, height = 1024)  # Argumento com duas palavras-chave\n",
        "desenha_retangulo()                                   # Erro: required argument missing\n",
        "desenha_retangulo(color = \"#CCCCCC\")                  # Erro: argumento por palavra-chave desconhecido\n",
        "desenha_retangulo(0, 0, x = 200, y = 300)             # Erro: valores duplicados par ao mesmo argumento\n",
        "\n",
        "```\n",
        "\n",
        "**3. Listas de Argumentos Arbitrários**: o Python permite você criar listas de argumentos com tamanho variável, de forma que toda vez que você chamar a função você possa especificar qualquer quantidade de argumentos que serão empacotados em uma variável do tipo tupla.\n",
        "\n",
        "```python\n",
        "# O último argumento é marcado com uma asterisco \n",
        "# para indicar que após os dois primeiros parâmetros\n",
        "# qualquer dado enviado para a função será empacotado em uma tupla.\n",
        "def nome_funcao(primeiro_arg, segundo_arg, *restante):\n",
        "    # Instruções\n",
        "    \n",
        "```\n",
        "\n",
        "## Passagem por Valor ou Por Referência?\n",
        "\n",
        "Em Python, objetos passados como argumentos para as funções são passados por *referência*, ou seja, não é feita uma cópia deles para o corpo da função. Desta forma, quando passamos uma lista enorme como argumento, não haverá a cópia  de todos os seus itens para um novo local em memória. Não se esqueça que até mesmo números inteiros são objetos para o Python. \n",
        "\n",
        "Ao passar objetos mutáveis (p. ex: listas e dicionários) como parâmetro, eles podem ser alterados pela função que os chamou e as alterações são visíveis para a função chamadora. Já os objetos imutáveis (p. ex: inteiros e strings), não podem ser alterados pela função chamada, logo, a função chamadora pode ter certeza de que a função chamada não irá alterar os valores das variáveis.\n"
      ]
    },
    {
      "cell_type": "markdown",
      "metadata": {
        "id": "NZhBkWE9abGu",
        "colab_type": "text"
      },
      "source": [
        "## Exercícios"
      ]
    },
    {
      "cell_type": "markdown",
      "metadata": {
        "id": "ik_Y8dVpabGz",
        "colab_type": "text"
      },
      "source": [
        "1. Faça um programa contendo o método `verifica(numero)` que retorne 1 se o número digitado for positivo ou 0 se for negativo."
      ]
    },
    {
      "cell_type": "code",
      "metadata": {
        "id": "qcMj9BDjabG1",
        "colab_type": "code",
        "outputId": "17386f32-cb00-4d81-871e-2c024bc3a160",
        "colab": {
          "base_uri": "https://localhost:8080/",
          "height": 51
        }
      },
      "source": [
        "numero = float (input (\"Digite um numero:\"))\n",
        "def verificaNumero (numero):\n",
        "  if (num >= 0):\n",
        "    print (1)\n",
        "  elif (num < 0):\n",
        "    print (0)\n",
        "verificaNumero(numero);"
      ],
      "execution_count": 0,
      "outputs": [
        {
          "output_type": "stream",
          "text": [
            "Digite um numero:5\n",
            "1\n"
          ],
          "name": "stdout"
        }
      ]
    },
    {
      "cell_type": "markdown",
      "metadata": {
        "id": "GPGTkGEvabG7",
        "colab_type": "text"
      },
      "source": [
        "2. Faça um programa contendo o método `somar(inicio, fim)` que receba dois números inteiros positivos como parâmetro e retorne a soma dos N números inteiros existentes entre eles. Ou seja, os parâmetros são exclusives, ou seja, os valores de início e fim não aparecerão no resultado."
      ]
    },
    {
      "cell_type": "code",
      "metadata": {
        "id": "Zxh5XQHI7TZ7",
        "colab_type": "code",
        "outputId": "20c79951-ed54-48f6-a30e-bdd48392281c",
        "colab": {
          "base_uri": "https://localhost:8080/",
          "height": 34
        }
      },
      "source": [
        "  numeros = range(inicio,fim);\n",
        "  soma = 0;\n",
        "  for numero in numeros:\n",
        "    soma = soma + numero;\n",
        "  print(soma - inicio);\n",
        "\n",
        "inicio = int(input(\"digite o numero de inicio:\"));\n",
        "fim = int(input(\"digite o numero de fim:\"));\n",
        "\n",
        "somar(inicio,fim);"
      ],
      "execution_count": 0,
      "outputs": [
        {
          "output_type": "stream",
          "text": [
            "3\n"
          ],
          "name": "stdout"
        }
      ]
    },
    {
      "cell_type": "markdown",
      "metadata": {
        "id": "0HLGfQ2iabHC",
        "colab_type": "text"
      },
      "source": [
        "3. Faça um programa contendo o método `divisores(a, b, c)` que receba três números inteiros a, b e c, sendo a maior que 1. A função deverá somar todos os inteiros entre b e c que sejam divisíveis por a (inclusive b e c) e retornar o resultado da soma para ser impresso."
      ]
    },
    {
      "cell_type": "code",
      "metadata": {
        "id": "GSlEy4TQabHD",
        "colab_type": "code",
        "colab": {}
      },
      "source": [
        "def divisores(a,b,c):\n",
        "  soma = 0;\n",
        "  lista = range(b,c);\n",
        "  if a > 1:\n",
        "    for item in lista:\n",
        "      if (item % a) == 0:\n",
        "        soma = soma + item;\n",
        "  return soma;\n",
        "\n",
        "a = int(input(\"digite o valor de a:\"));\n",
        "b = int(input(\"digite o valor de b:\"));\n",
        "c = int(input(\"digite o valor de c:\"));\n",
        "\n",
        "resultado = divisores(a,b,c);\n",
        "print(resultado);"
      ],
      "execution_count": 0,
      "outputs": []
    },
    {
      "cell_type": "markdown",
      "metadata": {
        "id": "wkt9knlmabHH",
        "colab_type": "text"
      },
      "source": [
        "4. Faça um método `converte_horario(segundos)` que receba um único valor representando segundos e converta esse valor para horas, minutos e segundos; seguindo o formato 00:00:00."
      ]
    },
    {
      "cell_type": "code",
      "metadata": {
        "id": "njfuFVvzabHI",
        "colab_type": "code",
        "colab": {}
      },
      "source": [
        "  horas = segundos // 3600;\n",
        "  segundos_rest = segundos % 3600;\n",
        "  minutos = segundos // 60;\n",
        "  segundos_rest = segundos_rest % 60;\n",
        "\n",
        "  print(horas,\":\",minutos,\":\",segundos_rest);\n",
        "\n",
        "segundos = int(input(\"digite o tempo em segundos: \"));\n",
        "converte_horario(segundos);"
      ],
      "execution_count": 0,
      "outputs": []
    },
    {
      "cell_type": "markdown",
      "metadata": {
        "id": "95BCpnmUabHL",
        "colab_type": "text"
      },
      "source": [
        "5. Crie o método `calcula_reajuste(preco_antigo, preco_atual)` que receba os valores antigo e atual de um produto e determine o percentual de acréscimo entre esses valores."
      ]
    },
    {
      "cell_type": "code",
      "metadata": {
        "id": "mpN447HUabHM",
        "colab_type": "code",
        "colab": {}
      },
      "source": [
        "def calcula_reajuste(preco_antigo, preco_atual):\n",
        "  percentual = (preco_atual / preco_antigo);\n",
        "  acrescimo = (percentual - 1) * 100;\n",
        "  print(\"o valor de acrescimo foi: \", round(acrescimo,2),\"%\");\n",
        "\n",
        "preco_antigo = float(input(\"digite o valor antigo do produto: \"));\n",
        "preco_atual = float(input(\"digite o valor atual do produto: \"));\n",
        "calcula_reajuste(preco_antigo,preco_atual);"
      ],
      "execution_count": 0,
      "outputs": []
    },
    {
      "cell_type": "markdown",
      "metadata": {
        "id": "qSAD9DyCabHP",
        "colab_type": "text"
      },
      "source": [
        "6. Crie o método `imprime_multiplicacao(n)` que receba como parâmetro um número inteiro no intervalo de 1 a 9 (inclusive) e mostre a seguinte tabela de multiplicação (no exemplo, n = 9):\n",
        "\n",
        "\n",
        "1<br/> \n",
        "2  4 <br/>\n",
        "3 6 9  <br/>\n",
        "4 8 12 16  <br/>\n",
        "5 10 15 20 25  <br/>\n",
        "6 12 18 24 30 36  <br/>\n",
        "7 14 21 28 35 42 49  <br/>\n",
        "8 16 24 32 40 48 56 64  <br/>\n",
        "9 18 27 36 45 54 63 72 81  <br/>"
      ]
    },
    {
      "cell_type": "code",
      "metadata": {
        "id": "jjjXUAN1abHQ",
        "colab_type": "code",
        "colab": {}
      },
      "source": [
        ""
      ],
      "execution_count": 0,
      "outputs": []
    },
    {
      "cell_type": "markdown",
      "metadata": {
        "id": "opAV9JLqabHT",
        "colab_type": "text"
      },
      "source": [
        "7. crie o método `media_alunos(nota1, nota2, nota3, tipo)` que receba as três notas de um aluno como parâmetros e um número inteiro indicando o tipo de média. Se o número for 0, a função deverá calcular a média aritmética das notas do aluno; se for 1, deverá calcular a média ponderada, com pesos os respectivos pesos: 5, 3 e 2. A média calculada deverá ser retornada pela função."
      ]
    },
    {
      "cell_type": "code",
      "metadata": {
        "id": "5Y3pU4w4abHU",
        "colab_type": "code",
        "colab": {}
      },
      "source": [
        "def media_alunos(nota1, nota2, nota3, tipo):\n",
        "  if tipo == 0:\n",
        "    mediaAritmetica = (nota1 + nota2 + nota3) / 3;\n",
        "    print(\"a média aritmética do aluno: \", mediaAritmetica);\n",
        "  elif tipo == 1:\n",
        "    mediaPonderada = ((nota1 * 5) + (nota2 * 3) + (nota3 * 2)) / 10;\n",
        "    print(\"a média ponderada do aluno: \", mediaPonderada);\n",
        "  else:\n",
        "    print(\"tipo nao suportado\");\n",
        "\n",
        "nota_1 = float(input(\"digite a nota 1 do aluno: \"));\n",
        "nota_2 = float(input(\"digite a nota 2 do aluno: \"));\n",
        "nota_3 = float(input(\"digite a nota 3 do aluno: \"));\n",
        "tipo = int(input(\"digite \\n 0 - média aritmética \\n 1 - média ponderada \"));\n",
        "media_alunos(nota_1,nota_2,nota_3,tipo)"
      ],
      "execution_count": 0,
      "outputs": []
    },
    {
      "cell_type": "markdown",
      "metadata": {
        "id": "UtxKNCoSabHX",
        "colab_type": "text"
      },
      "source": [
        "8. Faça o método `maior_menor(numeros)` que receba um vetor de números inteiros como parâmetro, em seguida, determine e imprima na tela o maior e o menor número."
      ]
    },
    {
      "cell_type": "code",
      "metadata": {
        "id": "Gi3Ksic_abHZ",
        "colab_type": "code",
        "colab": {}
      },
      "source": [
        "numeros = [1,45,68,3,46,32,10,29,2,97];\n",
        "\n",
        "def maior_menor(numeros):\n",
        "  print(\"o menor numero: \",min(numeros), \"e o maior numero: \",max(numeros));\n",
        "\n",
        "maior_menor(numeros);"
      ],
      "execution_count": 0,
      "outputs": []
    },
    {
      "cell_type": "markdown",
      "metadata": {
        "id": "4BGTA1-OabHb",
        "colab_type": "text"
      },
      "source": [
        "9. Foi realizada uma pesquisa sobre algumas características físicas dos habitantes de uma região. Foram coletados os seguintes dados de cada habitante: sexo, cor dos olhos (A — azuis; ou C — castanhos), cor dos cabelos (L — louros; P — pretos; ou C — castanhos) e idade. Implemente os seguintes métodos:\n",
        "\n",
        "    1. `leia_dados()`: leia esses dados, armazene e retorne os dados em uma lista;\n",
        "    2. `media_idades(dados)`: calcula e retorne a média de idade das pessoas com olhos castanhos e cabelos pretos;\n",
        "    3. `maior_idade(dados)`: determina e retorne a maior idade entre os habitantes;\n",
        "    4. `frequencia_individuos(dados)`: calcula e retorna a quantidade de indivíduos do sexo feminino com idade entre 18 e 35 anos (inclusive) e que tenham olhos azuis e cabelos louros."
      ]
    },
    {
      "cell_type": "code",
      "metadata": {
        "id": "RdARD45EabHc",
        "colab_type": "code",
        "colab": {}
      },
      "source": [
        "sexos = [];\n",
        "corOlhos = [];\n",
        "corCabelos = [];\n",
        "idades = [];\n",
        "def leia_dados():\n",
        "  pause = 1;\n",
        "  while pause != 0 :\n",
        "    sexo = str(input(\"digite o sexo (M - masculino  F -feminino)\"));\n",
        "    olhos = str(input(\"digite a cor dos olhos (A — azuis; ou C — castanhos)\"));\n",
        "    cabelos = str(input(\"cor dos cabelos (L — louros; P — pretos; ou C — castanhos)\"));\n",
        "    idade = int(input(\"digite a idade: \"));\n",
        "    sexos.append(sexo); \n",
        "    corOlhos.append(olhos);\n",
        "    corCabelos.append(cabelos);\n",
        "    idades.append(idade);\n",
        "    pause = idade;\n",
        "\n",
        "def media_idades(idades):\n",
        "  soma = 0;\n",
        "  for idade in idades:\n",
        "    soma = soma + idade;\n",
        "    media = soma / (len(idades) - 1)\n",
        "  print(\"a media das idades dos habitantes:\", media);\n",
        "\n",
        "def maior_idade(idades):\n",
        "  print(\" a maior idade entre os habitantes: \", max(idades));\n",
        "\n",
        "leia_dados();\n",
        "media_idades(idades);\n",
        "maior_idade(idades)"
      ],
      "execution_count": 0,
      "outputs": []
    },
    {
      "cell_type": "markdown",
      "metadata": {
        "id": "icDWiCv_abHe",
        "colab_type": "text"
      },
      "source": [
        "10. Implemente o método `fatorial(n)` que receba como parâmetro um número inteiro e retorne o fatorial deste número."
      ]
    },
    {
      "cell_type": "code",
      "metadata": {
        "id": "wAdSnnO5abHf",
        "colab_type": "code",
        "colab": {}
      },
      "source": [
        "numero = int(input(\"Fatorial de: \") )\n",
        "\n",
        "def fatorial(n):\n",
        "  resultado = 1;\n",
        "  contador = 1;\n",
        "\n",
        "  while contador <= numero:\n",
        "    resultado *= contador;\n",
        "    contador += 1;\n",
        "  return resultado;\n",
        "\n",
        "resultado = fatorial(numero);\n",
        "print(resultado);"
      ],
      "execution_count": 0,
      "outputs": []
    },
    {
      "cell_type": "markdown",
      "metadata": {
        "id": "rx_OmAF1abHh",
        "colab_type": "text"
      },
      "source": [
        "11. Faça o método `calcula_fatorial(numeros)` que receba uma lista de números inteiros como parâmetro. Ao final dessa função, deverá ter sido gerado um vetor `resultados_fatorial` contendo o fatorial de cada elemento da lista de números passada como parâmetro."
      ]
    },
    {
      "cell_type": "code",
      "metadata": {
        "id": "Aqsg-2amabHi",
        "colab_type": "code",
        "colab": {}
      },
      "source": [
        "vetor = [1,2,3,4,5]\n",
        "\n",
        "def calcula_fatorial(vetor):\n",
        "  resultados_fatoriais = [];\n",
        "  for numero in vetor:\n",
        "    print(\"oi\")\n",
        "  return resultados_fatoriais;\n",
        "r = calcula_fatorial(vetor);\n",
        "print(r);"
      ],
      "execution_count": 0,
      "outputs": []
    },
    {
      "cell_type": "markdown",
      "metadata": {
        "id": "itteWZrLabHl",
        "colab_type": "text"
      },
      "source": [
        "12. Crie o método `identifica_numeros_pares(numeros)` que recebe um vetor de números inteiros como parâmetro, calcule e mostre na tela os números pares e suas respectivas posições."
      ]
    },
    {
      "cell_type": "code",
      "metadata": {
        "id": "Ur1ORwsQabHm",
        "colab_type": "code",
        "colab": {}
      },
      "source": [
        "numeros = [1,3,3,6,8,34,109,90,42,26];\n",
        "\n",
        "def identifica_numeros_pares(numeros):\n",
        "  for i, numero in enumerate(numeros):\n",
        "    if(numero % 2) == 0:\n",
        "      print((i + 1),numero);\n",
        "\n",
        "identifica_numeros_pares(numeros);"
      ],
      "execution_count": 0,
      "outputs": []
    },
    {
      "cell_type": "markdown",
      "metadata": {
        "id": "cbZLk93WabHo",
        "colab_type": "text"
      },
      "source": [
        "13. Crie o método `intercala(a, b)` que receba dois vetores númericos como parâmetro e retorne o vetor resultante da intercalação deles, por exemplo:\n",
        "\n",
        "    * Vetor A = [3, 5, 4, 2, 2, 5, 3, 2, 5, 9]\n",
        "    * Vetor B = [7, 15, 20, 0, 18, 4, 55, 23, 8, 6]\n",
        "    * Vetor Intercalado = [3, 7, 5, 15, 4, 20, 2, 0, 2, 18, 5, 4, 3, 55, 2, 23, 5, 8, 9, 6]\n"
      ]
    },
    {
      "cell_type": "code",
      "metadata": {
        "id": "kNAq2ffAabHq",
        "colab_type": "code",
        "colab": {}
      },
      "source": [
        "VetorA = [3, 5, 4, 2, 2, 5, 3, 2, 5, 9];\n",
        "VetorB = [7, 15, 20, 0, 18, 4, 55, 23, 8, 6];\n",
        "\n",
        "def intercale(vetorA,vetorB):\n",
        "  vetorIntercalado = [];\n",
        "  for a,b in zip(vetorA,vetorB):\n",
        "    vetorIntercalado.append(a);\n",
        "    vetorIntercalado.append(b);\n",
        "  return vetorIntercalado;\n",
        "\n",
        "resultado = intercale(VetorA,VetorB);\n",
        "print(resultado)"
      ],
      "execution_count": 0,
      "outputs": []
    },
    {
      "cell_type": "markdown",
      "metadata": {
        "id": "X3JuFOY6abHs",
        "colab_type": "text"
      },
      "source": [
        "14. Implemente o método `uniao(a, b)` que receba dois vetores numéricos como parâmetro, calcule e retorne um vetor numérico com a união entre a e b (A ∪ B), ou seja, que possua todos os elementos dos vetores A e B, sem repetições."
      ]
    },
    {
      "cell_type": "code",
      "metadata": {
        "id": "gIbzAxFtabHs",
        "colab_type": "code",
        "colab": {}
      },
      "source": [
        "VetorA = set([3, 5, 4, 2, 2, 5, 3, 2, 5, 9]);\n",
        "VetorB = set([7, 15, 20, 0, 18, 4, 55, 23, 8, 6]);\n",
        "\n",
        "def uniao(a,b):\n",
        "  vetorUnido = a.union(b);\n",
        "  return vetorUnido\n",
        "  \n",
        "\n",
        "resultado = uniao(VetorA,VetorB);\n",
        "print(resultado)"
      ],
      "execution_count": 0,
      "outputs": []
    },
    {
      "cell_type": "markdown",
      "metadata": {
        "id": "bANAo-6babHv",
        "colab_type": "text"
      },
      "source": [
        "15. Implemente o método `diferenca(a, b)` que receba dois vetores numéricos como parâmetro, calcule e retorne um vetor numérico com a diferença entre a e b (A - B), ou seja, todos os elementos do vetores A que não existam no vetor B, sem repetições."
      ]
    },
    {
      "cell_type": "code",
      "metadata": {
        "id": "bxW4JTD5abHw",
        "colab_type": "code",
        "colab": {}
      },
      "source": [
        "VetorA = set([3, 5, 4, 2, 2, 5, 3, 2, 5, 9]);\n",
        "VetorB = set([7, 15, 20, 0, 18, 4, 55, 23, 8, 6]);\n",
        "\n",
        "def diferenca(a, b):\n",
        "  vetorDiferenca = a.difference(b);\n",
        "  return vetorDiferenca\n",
        "\n",
        "resultado = diferenca(VetorA,VetorB);\n",
        "print(resultado)"
      ],
      "execution_count": 0,
      "outputs": []
    },
    {
      "cell_type": "markdown",
      "metadata": {
        "id": "XoZltYIyabHy",
        "colab_type": "text"
      },
      "source": [
        "16. Implemente o método `intersecao(a, b)` que receba dois vetores numéricos como parâmetro, calcule e retorne um vetor numérico com a intersecção entre a e b (A ∩ B), ou seja, contenha apenas os elementos que aparecem nos dois vetores, sem repetições."
      ]
    },
    {
      "cell_type": "code",
      "metadata": {
        "id": "V5s8-obUabH0",
        "colab_type": "code",
        "colab": {}
      },
      "source": [
        "a = set([2,4,6,7,10]);\n",
        "b = set([3,4,6,8,10,11]);\n",
        "\n",
        "def intersecao(a, b):\n",
        "    return a.intersection(b)\n",
        "\n",
        "print(intersecao(a,b))"
      ],
      "execution_count": 0,
      "outputs": []
    },
    {
      "cell_type": "markdown",
      "metadata": {
        "id": "szC0U1JpabH4",
        "colab_type": "text"
      },
      "source": [
        "17. Implemente o método `par(n)` que receba como parâmetro um número e retorne verdadeiro (true) se ele for par ou falso (false) se ele for ímpar."
      ]
    },
    {
      "cell_type": "code",
      "metadata": {
        "id": "-pT3RpxiabH5",
        "colab_type": "code",
        "colab": {}
      },
      "source": [
        "def par(n):\n",
        "  boolean = (n % 2) == 0;\n",
        "  print(boolean);\n",
        "numero = int(input(\"digite um numero: \"));\n",
        "par(numero);"
      ],
      "execution_count": 0,
      "outputs": []
    },
    {
      "cell_type": "markdown",
      "metadata": {
        "id": "3IYN3U-habH7",
        "colab_type": "text"
      },
      "source": [
        "18. Implemente o método `max(numeros)` que receba como parâmetro uma lista de números e retorne o *maior número* encontrado na lista."
      ]
    },
    {
      "cell_type": "code",
      "metadata": {
        "id": "JUE1-jVmabH8",
        "colab_type": "code",
        "colab": {}
      },
      "source": [
        ""
      ],
      "execution_count": 0,
      "outputs": []
    },
    {
      "cell_type": "markdown",
      "metadata": {
        "id": "AJGeqWsdabH-",
        "colab_type": "text"
      },
      "source": [
        "19. Implemente o método `min(numeros)` que receba como parâmetro uma lista de números e retorne o *menor número* encontrado na lista."
      ]
    },
    {
      "cell_type": "code",
      "metadata": {
        "id": "Abb45RTSabH_",
        "colab_type": "code",
        "colab": {}
      },
      "source": [
        ""
      ],
      "execution_count": 0,
      "outputs": []
    },
    {
      "cell_type": "markdown",
      "metadata": {
        "id": "vO8jdMViabIB",
        "colab_type": "text"
      },
      "source": [
        "20. Escreva o método `multiplo(a, b)` que receba dois números inteiros como parâmetro e retorne verdadeiro (true) se o primeiro for um múltiplo do segundo. Por exemplo: \n",
        "\n",
        "    * Se o usuário digitar 15 e 3, o primeiro número será múltiplo do segundo;\n",
        "    * Se o usuário digitar 2 e 4, o primeiro número não será múltiplo do segundo. \n",
        "\n",
        "> **Dica:** use o operador módulo para obter o resto da divisão.\n"
      ]
    },
    {
      "cell_type": "code",
      "metadata": {
        "id": "1PAieg_sabIC",
        "colab_type": "code",
        "colab": {}
      },
      "source": [
        "def multiplo(a,b):\n",
        "  boolean = (a % b) == 0;\n",
        "  print(boolean);\n",
        "\n",
        "valorA = int(input(\"digite o valor de a: \"));\n",
        "valorB = int(input(\"digite o valor de b: \"));\n",
        "\n",
        "multiplo(valorA,valorB);"
      ],
      "execution_count": 0,
      "outputs": []
    },
    {
      "cell_type": "markdown",
      "metadata": {
        "id": "Xx35RSEEabIE",
        "colab_type": "text"
      },
      "source": [
        "21. Implemente o método `imprime_vetor(vetor, codigo)` que receba como parâmetro um vetor de itens que será impresso e um código indicando a ordem da impressão. Se o código for igual a 0, o vetor deverá ser impresso de maneira crescente, caso contrário, se o código for igual a 1 o vetor deverá ser impresso de maneira decrescente. "
      ]
    },
    {
      "cell_type": "code",
      "metadata": {
        "id": "N76xVTTSabIF",
        "colab_type": "code",
        "colab": {}
      },
      "source": [
        "def imprime_vetor(vetor, codigo):\n",
        "  if codigo == 0:\n",
        "\n",
        "  elif codigo == 1:\n",
        "\n",
        "  else:\n",
        "    print(\"o codigo nao e valido\");"
      ],
      "execution_count": 0,
      "outputs": []
    },
    {
      "cell_type": "markdown",
      "metadata": {
        "id": "gRR9AMS2abIH",
        "colab_type": "text"
      },
      "source": [
        "22. Implemente o método `primo(n)` que receba um número como parâmetro e retorna verdadeiro (true) se ele for primo, caso contrário, falso (false). \n",
        "\n",
        "> Um número é primo quando é divisível apenas por 1 e por ele mesmo"
      ]
    },
    {
      "cell_type": "code",
      "metadata": {
        "id": "pjHNeYpYabII",
        "colab_type": "code",
        "colab": {}
      },
      "source": [
        ""
      ],
      "execution_count": 0,
      "outputs": []
    },
    {
      "cell_type": "markdown",
      "metadata": {
        "id": "Bv2ShVjGabIK",
        "colab_type": "text"
      },
      "source": [
        "23. Crie o método `media(numeros)` que receba uma lista de números como parâmetro e retorno a média artimética."
      ]
    },
    {
      "cell_type": "code",
      "metadata": {
        "id": "GaRyNJ8yabIL",
        "colab_type": "code",
        "colab": {}
      },
      "source": [
        "numeros = [1,2,3,4];\n",
        "\n",
        "def media(numeros):\n",
        "  soma = 0;\n",
        "  for numero in numeros:\n",
        "    soma = soma + numero;\n",
        "  media = soma / len(numeros);\n",
        "  return media;\n",
        "\n",
        "resultado = media(numeros);\n",
        "print(resultado);"
      ],
      "execution_count": 0,
      "outputs": []
    },
    {
      "cell_type": "markdown",
      "metadata": {
        "id": "vjzwAaBUabIO",
        "colab_type": "text"
      },
      "source": [
        "24. Faça o método `analisa_numeros(numeros)` que receba uma lista de números como parâmetro, calcule e mostre:\n",
        "\n",
        "    1. A Soma dos números;\n",
        "    2. A quantidade de números;\n",
        "    3. A média dos números;\n",
        "    4. O maior número;\n",
        "    5. O menor número;\n",
        "    6. A média dos números pares;\n",
        "    7. A porcentagem dos números ímpares entre todos os números da lista.\n",
        "\n",
        "> Você pode utilizar métodos criados nos exercícios anteriores."
      ]
    },
    {
      "cell_type": "code",
      "metadata": {
        "id": "xIvyp79iabIO",
        "colab_type": "code",
        "colab": {}
      },
      "source": [
        ""
      ],
      "execution_count": 0,
      "outputs": []
    },
    {
      "cell_type": "markdown",
      "metadata": {
        "id": "EeUn-RiIabIQ",
        "colab_type": "text"
      },
      "source": [
        "25. Uma empresa quer transmitir dados pelo telefone, mas está preocupada com a interceptação telefônica. Todos os seus dados são transmitidos  como inteiros de quatro dígitos. Ela pediu para que você escreva um programa que criptografe seus dados, para que eles possam ser transmitidos com mais segurança. Implemente a função `criptogra(numero)` que receba como parâmetro um número inteiro de quatro dígitos e criptografe-o da seguinte forma: \n",
        "\n",
        "    * Substitua cada um dos dígitos do número usando a seguinte fórmula: `(digito +  7) módulo 10`; \n",
        "    * Após a substituição, troque o primeiro dígito pelo terceiro e troque o segundo dígito pelo quarto;\n",
        "    * Retorne o número inteiro criptografado.\n"
      ]
    },
    {
      "cell_type": "code",
      "metadata": {
        "id": "KEVsEpyQabIS",
        "colab_type": "code",
        "colab": {}
      },
      "source": [
        "def criptogra(numero):\n",
        "  numeroCriptografado = [];\n",
        "  for item in numero:\n",
        "    (item + 7) % 10;"
      ],
      "execution_count": 0,
      "outputs": []
    }
  ]
}