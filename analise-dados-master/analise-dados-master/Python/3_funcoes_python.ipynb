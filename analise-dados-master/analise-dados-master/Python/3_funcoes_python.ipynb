{
 "cells": [
  {
   "cell_type": "markdown",
   "metadata": {},
   "source": [
    "# Funções\n",
    "\n",
    "Métodos são blocos de códigos reutilizáveis que realizam tarefas específicas dentro de um programa. Em Python, definimos funções usando a palavra-chave *def*, seguida pelo nome da função, a lista formal de parâmetros entre parêntesis, e, finalizando a assinatura do método com dois pontos (:). É importante lembrar que todas as instruções após a assinatura do método e que formam o corpo da função, devem ser identadas para funcionamento correto do código.\n",
    "\n",
    "```python\n",
    "def soma(a, b):\n",
    "    \"\"\"Retorna a soma de dois números inteiros\"\"\"\n",
    "    return a + b;\n",
    "\n",
    "\n",
    "# Exemplo de uso da função\n",
    "resultado_soma = soma(12, 15) \n",
    "print(resultado_soma) # Saída: 27\n",
    "\n",
    "```\n",
    "\n",
    "Você deve ter notado o comentário logo após a assinatura do método; este tipo de comentário é o que chamamos de *docstring*, e serve para documentarmos as funções para posteriormente, gerarmos automaticamente com auxílio de ferramentas, uma documentação online ou impressa do seu programa. Por isso, comente sempre seu código e escreva-o de maneira mais clara possível para que outras pessoas consigam ler e compreender facilmente o que seu código faz.\n",
    "\n",
    "## Declaração de Argumentos\n",
    "\n",
    "Existem 3 formas diferentes, que podem ser combinadas entre si, para definirmos funções com número variável de argumentos, são elas:\n",
    "\n",
    "**1. Valores Padrão de Argumento**: declaramos um valor padrão para um ou mais argumentos no seguinte formato: *\"arg = value\"*; de tal forma que damos a opção de não especificar valores para tais argumentos e usarmos os valores padrão definidos.\n",
    "\n",
    "```python\n",
    "def exibir_mensagem(mensagem, cortar_apos = 4):\n",
    "    print(message[:cortar_apos]\n",
    "\n",
    "# Exemplo de uso da função\n",
    "exibir_mensagem(\"mensagem\")     # Saída: mens\n",
    "exibir_mensagem(\"mensagem\", 6)  # Saída: mensag\n",
    "```\n",
    "\n",
    "**2. Argumentos por Palavras-Chave**: semelhante a técnica anterior, argumentos por palavra-chave nós declaramos os argumentos no formato *\"arg = value\"*, lembrando que em uma chamada de função as variáveis passadas como parâmetro devem seguir a mesma ordem dos argumentos na assinatura do método.\n",
    "\n",
    "```python\n",
    "def desenha_retangulo(x, y, width = 800, height = 600):\n",
    "    # Instruções\n",
    "    \n",
    "# Exemplo de uso da função\n",
    "desenha_retangulo(0, 0)                               # Argumento por posição usando valores padrão do restante \n",
    "desenha_retangulo(0, 0, width = 1280)                 # Argumento com uma palavra-chave\n",
    "desenha_retangulo(0, 0, width = 1280, height = 1024)  # Argumento com duas palavras-chave\n",
    "desenha_retangulo()                                   # Erro: required argument missing\n",
    "desenha_retangulo(color = \"#CCCCCC\")                  # Erro: argumento por palavra-chave desconhecido\n",
    "desenha_retangulo(0, 0, x = 200, y = 300)             # Erro: valores duplicados par ao mesmo argumento\n",
    "\n",
    "```\n",
    "\n",
    "**3. Listas de Argumentos Arbitrários**: o Python permite você criar listas de argumentos com tamanho variável, de forma que toda vez que você chamar a função você possa especificar qualquer quantidade de argumentos que serão empacotados em uma variável do tipo tupla.\n",
    "\n",
    "```python\n",
    "# O último argumento é marcado com uma asterisco \n",
    "# para indicar que após os dois primeiros parâmetros\n",
    "# qualquer dado enviado para a função será empacotado em uma tupla.\n",
    "def nome_funcao(primeiro_arg, segundo_arg, *restante):\n",
    "    # Instruções\n",
    "    \n",
    "```\n",
    "\n",
    "## Passagem por Valor ou Por Referência?\n",
    "\n",
    "Em Python, objetos passados como argumentos para as funções são passados por *referência*, ou seja, não é feita uma cópia deles para o corpo da função. Desta forma, quando passamos uma lista enorme como argumento, não haverá a cópia  de todos os seus itens para um novo local em memória. Não se esqueça que até mesmo números inteiros são objetos para o Python. \n",
    "\n",
    "Ao passar objetos mutáveis (p. ex: listas e dicionários) como parâmetro, eles podem ser alterados pela função que os chamou e as alterações são visíveis para a função chamadora. Já os objetos imutáveis (p. ex: inteiros e strings), não podem ser alterados pela função chamada, logo, a função chamadora pode ter certeza de que a função chamada não irá alterar os valores das variáveis.\n"
   ]
  },
  {
   "cell_type": "markdown",
   "metadata": {},
   "source": [
    "## Exercícios"
   ]
  },
  {
   "cell_type": "markdown",
   "metadata": {},
   "source": []
  },
  {
   "cell_type": "code",
   "execution_count": null,
   "metadata": {},
   "outputs": [],
   "source": []
  },
  {
   "cell_type": "markdown",
   "metadata": {},
   "source": []
  },
  {
   "cell_type": "code",
   "execution_count": null,
   "metadata": {},
   "outputs": [],
   "source": []
  },
  {
   "cell_type": "markdown",
   "metadata": {},
   "source": []
  },
  {
   "cell_type": "code",
   "execution_count": null,
   "metadata": {},
   "outputs": [],
   "source": []
  },
  {
   "cell_type": "markdown",
   "metadata": {},
   "source": []
  },
  {
   "cell_type": "code",
   "execution_count": null,
   "metadata": {},
   "outputs": [],
   "source": []
  },
  {
   "cell_type": "markdown",
   "metadata": {},
   "source": []
  },
  {
   "cell_type": "code",
   "execution_count": null,
   "metadata": {},
   "outputs": [],
   "source": []
  },
  {
   "cell_type": "markdown",
   "metadata": {},
   "source": []
  },
  {
   "cell_type": "code",
   "execution_count": null,
   "metadata": {},
   "outputs": [],
   "source": []
  },
  {
   "cell_type": "markdown",
   "metadata": {},
   "source": []
  },
  {
   "cell_type": "code",
   "execution_count": null,
   "metadata": {},
   "outputs": [],
   "source": []
  }
 ],
 "metadata": {
  "kernelspec": {
   "display_name": "Python 3",
   "language": "python",
   "name": "python3"
  },
  "language_info": {
   "codemirror_mode": {
    "name": "ipython",
    "version": 3
   },
   "file_extension": ".py",
   "mimetype": "text/x-python",
   "name": "python",
   "nbconvert_exporter": "python",
   "pygments_lexer": "ipython3",
   "version": "3.7.4"
  }
 },
 "nbformat": 4,
 "nbformat_minor": 4
}
