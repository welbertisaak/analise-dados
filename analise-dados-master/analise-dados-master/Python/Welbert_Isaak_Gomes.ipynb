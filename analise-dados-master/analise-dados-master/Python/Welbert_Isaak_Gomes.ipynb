{
  "nbformat": 4,
  "nbformat_minor": 0,
  "metadata": {
    "kernelspec": {
      "display_name": "Python 3",
      "language": "python",
      "name": "python3"
    },
    "language_info": {
      "codemirror_mode": {
        "name": "ipython",
        "version": 3
      },
      "file_extension": ".py",
      "mimetype": "text/x-python",
      "name": "python",
      "nbconvert_exporter": "python",
      "pygments_lexer": "ipython3",
      "version": "3.7.4"
    },
    "colab": {
      "name": "Welbert Isaak Gomes",
      "provenance": [],
      "collapsed_sections": [],
      "toc_visible": true
    }
  },
  "cells": [
    {
      "cell_type": "markdown",
      "metadata": {
        "id": "9rRUXCjDx8ch",
        "colab_type": "text"
      },
      "source": [
        "# Bem-Vindo ao Mundo Python!"
      ]
    },
    {
      "cell_type": "markdown",
      "metadata": {
        "id": "EJU3figax8cn",
        "colab_type": "text"
      },
      "source": [
        "## Variáveis e Tipos\n",
        "* Variáveis são **Locais de Memória**;\n",
        "* Os nomes de variáveis devem ser **mnemônicos**, ou seja, de **fácil memorização**;\n",
        "* Variáveis em Python são **\"Case-sensitive\"** e devem escritas com letras minúsculas, sem qualquer tipo de acentuação gráfica;\n",
        "* Nomes compostos de variáveis devem ser separados por subtraço, por exemplo: nome_variavel_composta;\n",
        "* Python é uma linguagem *dinamicamente tipada*, logo, não informamos o tipo de dados durante a declaração de cada variável;\n",
        "\n",
        "### Tipos de Dados Padrão\n",
        "Os tipos de dados primitivos do Python podem ser classificados como: numéricos, sequências, conjuntos e mapeamentos.\n",
        "\n",
        "*Tipos Numéricos*\n",
        "\n",
        "| Nome    | Descrição                    |  Versão               |\n",
        "|:--------|:-----------------------------|:----------------------|\n",
        "| int     | Números Inteiros             | Todas                 |\n",
        "| long    | Números inteiros Longos      | Python 2.x (Somente)  |\n",
        "| float   | Números de Ponto Flutuante   | Todas                 |\n",
        "| complex | Números Complexos            | Todas                 |\n",
        "\n",
        "*Sequências*\n",
        "\n",
        "| Nome         | Descrição                                                  |  Versão               |\n",
        "|:-------------|:-----------------------------------------------------------|:----------------------|\n",
        "| str          | Cadeia de Caracteres (String)                              | Todas                 |\n",
        "| bytes        | Sequência de números inteiros no intervalo de 0 a 255      | Python 3.x (Somente)  |\n",
        "| byte array   | Semelhante ao tipo bytes, porém, mutáveis                  | Python 3.x (Somente)  |\n",
        "| list         | Lista de itens geralmente homogêneos e mutáveis            | Todas                 |\n",
        "| tuple        | Sequência de itens heterogêneos e imutáveis                | Todas                 |\n",
        "\n",
        "*Conjuntos*\n",
        "\n",
        "| Nome       | Descrição                               |  Versão                |\n",
        "|:-----------|:----------------------------------------|:-----------------------|\n",
        "| set        | coleção não ordenada de objetos únicos  | Python 2.6 ou Superior |\n",
        "| frozen set | Semelhante ao tipo set, porém, imutável | Python 2.6 ou Superior |\n",
        "\n",
        "*Mapeamentos*\n",
        "\n",
        "| Nome       | Descrição                               |  Versão                |\n",
        "|:-----------|:----------------------------------------|:-----------------------|\n",
        "| dict       | Dicionários ou Array Associativos       | Todas                  |\n",
        "\n",
        "\n",
        "#### Objetos Mutáveis X Objetos Imutáveis\n",
        "De modo geral, os tipos de dados em Python podem ser diferenciados como mutáveis e imutáveis.\n",
        "\n",
        "- **Objetos Mutáveis:** o conteúdo pode ser alterado após sua criação;\n",
        "- **Objetos Imutáveis:** o conteúdo **não pode ser alterado** após sua criação;\n",
        "\n",
        "| Tipos Mutáveis       | Tipos Imutáveis                         |\n",
        "|:---------------------|:----------------------------------------|\n",
        "| array                | int, float, complex                     |\n",
        "| bytearray            | str                                     |\n",
        "| list                 | bytes                                   |\n",
        "| set                  | tuple                                   |\n",
        "| dict                 | frozenset                               |\n",
        "| -                    | bool                                    |"
      ]
    },
    {
      "cell_type": "code",
      "metadata": {
        "id": "IvJzbLcwx8co",
        "colab_type": "code",
        "outputId": "07149706-bb73-4f96-ba56-c5b70e21d2f6",
        "colab": {
          "base_uri": "https://localhost:8080/",
          "height": 425
        }
      },
      "source": [
        "# CONVERSÃO DE TIPO\n",
        "# Aprendendo Conversão de Tipo Com Exemplos\n",
        "\n",
        "# Números Inteiros\n",
        "valor_int_1 = int(2.7) \n",
        "print(valor_int_1) # Saída: 2   \n",
        "\n",
        "valor_int_2 = int(-3.9)\n",
        "print(valor_int_2) # Saída: -3   \n",
        "\n",
        "valor_int_3 = int(\"2\")\n",
        "print(valor_int_3) # Saída: 2  \n",
        "\n",
        "\n",
        "# Números de Ponto Flutuante\n",
        "valor_float_1 = float(7)\n",
        "print(valor_float_1) # Saída: 7.0\n",
        "\n",
        "valor_float_2 = float(\"4.5\")\n",
        "print(valor_float_2) # Saída: 4.5\n",
        "\n",
        "valor_float_4 = float(\"2.7E-2\")\n",
        "print(valor_float_4) # Saída: 0.027\n",
        "\n",
        "valor_float_5 = float(False)\n",
        "print(valor_float_5) # Saída: 0.0\n",
        "\n",
        "valor_float_6 = float(True)\n",
        "print(valor_float_6) # Saída: 1.0\n",
        "\n",
        "\n",
        "# Cadeia de Caracteres\n",
        "valor_string_1 = str(4.5)\n",
        "print(valor_string_1) # Saída: 4.5\n",
        "\n",
        "valor_string_2 = str([1, 2, 3, 4, 5])\n",
        "print(valor_string_2) # Saída: \"[1, 2, 3, 4, 5]\"\n",
        "\n",
        "\n",
        "# Tipos Lógicos (Booleanos)\n",
        "valor_bool_1 = bool(0)\n",
        "print(valor_bool_1) # Saída: False\n",
        "\n",
        "valor_bool_2 = bool(1)\n",
        "print(valor_bool_2) # Saída: True\n",
        "\n",
        "valor_bool_3 = bool([])\n",
        "print(valor_bool_3) # Saída: False - Lista Vazia\n",
        "\n",
        "valor_bool_4 = bool([False])\n",
        "print(valor_bool_4) # Saída: True - Lista Não Vazia\n",
        "\n",
        "valor_bool_5 = bool({})\n",
        "print(valor_bool_5) # Saída: False - Dicionário Vazio, o mesmo para Tupla\n",
        "\n",
        "valor_bool_6 = bool(\"\")\n",
        "print(valor_bool_6) # Saída: False - String Vazia\n",
        "\n",
        "valor_bool_7 = bool(\" \")\n",
        "print(valor_bool_7) # Saída: True - String Não Vazia\n",
        "\n",
        "valor_bool_8 = bool(None)\n",
        "print(valor_bool_8) # Saída: False\n",
        "\n",
        "valor_bool_9 = bool(len)\n",
        "print(valor_bool_9) # Saída: True\n",
        "\n",
        "# Listas e Conjuntos\n",
        "conjunto = set([1, 2])\n",
        "lista = list(conjunto)\n",
        "print(conjunto) # Saída: {1, 2}\n",
        "print(lista)    # Saída: [1, 2]\n",
        "\n",
        "valor_lista_1 = list({0: \"Python\", 1: \"R\"}) # dict: Lista de chaves\n",
        "print(valor_lista_1) # Saída: [0, 1]\n",
        "\n",
        "tupla = tuple(lista)\n",
        "print(tupla) # Saída: (1, 2)\n",
        "\n",
        "valor_lista_2 = list(\"ABC\")\n",
        "print(valor_lista_2) # Saída: ['A', 'B', 'C']"
      ],
      "execution_count": 1,
      "outputs": [
        {
          "output_type": "stream",
          "text": [
            "2\n",
            "-3\n",
            "2\n",
            "7.0\n",
            "4.5\n",
            "0.027\n",
            "0.0\n",
            "1.0\n",
            "4.5\n",
            "[1, 2, 3, 4, 5]\n",
            "False\n",
            "True\n",
            "False\n",
            "True\n",
            "False\n",
            "False\n",
            "True\n",
            "False\n",
            "True\n",
            "{1, 2}\n",
            "[1, 2]\n",
            "[0, 1]\n",
            "(1, 2)\n",
            "['A', 'B', 'C']\n"
          ],
          "name": "stdout"
        }
      ]
    },
    {
      "cell_type": "markdown",
      "metadata": {
        "id": "NXMA-HxOx8cu",
        "colab_type": "text"
      },
      "source": [
        "## Exercício 1\n",
        "*Calculando o IMC*\n",
        "\n",
        "O Índice de Massa Corporal (IMC) é uma medida internacional usada para calcular se uma pessoa está em seu peso ideal.\n",
        "O cálculo do IMC é determinado pela divisão da massa do indivíduo em quilogramas pelo quadrado de sua altura em metros.\n",
        "\n",
        "\n",
        "\n",
        "$$IMC=\\frac{massa}{(altura * altura)}$$\n",
        "\n",
        "\n",
        "\n",
        "Escreva um programa que leia do usuário sua altura e peso e calcule o seu IMC.\n"
      ]
    },
    {
      "cell_type": "code",
      "metadata": {
        "id": "M1PcK-Pyx8cv",
        "colab_type": "code",
        "outputId": "01216465-f0db-4203-ba9f-3ce6be8537ff",
        "colab": {
          "base_uri": "https://localhost:8080/",
          "height": 68
        }
      },
      "source": [
        "# TODO: Complete o Código Abaixo\n",
        "altura = float (input('Altura: '))\n",
        "peso = float (input('Peso: '))\n",
        "IMC = str (peso/(altura*altura))\n",
        "\n",
        "print(\"IMC: \" + IMC)"
      ],
      "execution_count": 2,
      "outputs": [
        {
          "output_type": "stream",
          "text": [
            "Altura: 52\n",
            "Peso: 5\n",
            "IMC: 0.0018491124260355029\n"
          ],
          "name": "stdout"
        }
      ]
    },
    {
      "cell_type": "markdown",
      "metadata": {
        "id": "8KUYBlZux8c1",
        "colab_type": "text"
      },
      "source": [
        "## Operadores\n",
        "\n",
        "*Operadores Numéricos*\n",
        "\n",
        "| Operador | Descrição       |\n",
        "|:---------|:----------------|\n",
        "| +        | Adição          |\n",
        "| -        | Subtração       |\n",
        "| *        | Multiplicação   |\n",
        "| /        | Divisão         |\n",
        "| **       | Expoente        |\n",
        "| %        | Módulo          |\n",
        "| //       | Divisão de Piso |\n",
        "\n",
        "\n",
        "*Operadores de Comparação*\n",
        "\n",
        "| Operador | Descrição       |\n",
        "|:---------|:----------------|\n",
        "| ==       | Igual           |\n",
        "| !=       | Diferente       |\n",
        "| >        | Maior           |\n",
        "| <        | Menor           |\n",
        "| >=       | Maior Igual     |\n",
        "| <=       | Menor Igual     |\n",
        "\n",
        "\n",
        "*Operadores Lógicos*\n",
        "\n",
        "| Operador | Descrição       |\n",
        "|:---------|:----------------|\n",
        "| and      | AND lógico      |\n",
        "| or       | OR lógico       |\n",
        "| not      | NOT lógico      |\n",
        "\n",
        "*Caracteres Especiais*\n",
        "\n",
        "| Operador | Descrição       |\n",
        "|:---------|:----------------|\n",
        "| #        | Comentário      |\n",
        "| \\n       | Nova Linha      |\n"
      ]
    },
    {
      "cell_type": "markdown",
      "metadata": {
        "id": "7n6PoIjNx8c2",
        "colab_type": "text"
      },
      "source": [
        "## Exercícios"
      ]
    },
    {
      "cell_type": "markdown",
      "metadata": {
        "id": "ubEjeisMx8c3",
        "colab_type": "text"
      },
      "source": [
        "1. Escreva um algoritmo que imprima na tela: Olá Mundo!"
      ]
    },
    {
      "cell_type": "code",
      "metadata": {
        "id": "pi76JOThx8c4",
        "colab_type": "code",
        "outputId": "f2e63cd6-87a0-436b-ef5d-3ac631148442",
        "colab": {
          "base_uri": "https://localhost:8080/",
          "height": 34
        }
      },
      "source": [
        "#ola = str(\"Olá Mundo\")\n",
        "#print(ola)\n",
        "\n",
        "print(\"olá mundo\")"
      ],
      "execution_count": 3,
      "outputs": [
        {
          "output_type": "stream",
          "text": [
            "olá mundo\n"
          ],
          "name": "stdout"
        }
      ]
    },
    {
      "cell_type": "markdown",
      "metadata": {
        "id": "15mB-lJKx8c7",
        "colab_type": "text"
      },
      "source": [
        "2. Escreva um programa que imprima seu nome na tela."
      ]
    },
    {
      "cell_type": "code",
      "metadata": {
        "id": "gncmxrV1x8c8",
        "colab_type": "code",
        "outputId": "70befa61-c94d-4dd1-b4b9-851fe31ea2bf",
        "colab": {
          "base_uri": "https://localhost:8080/",
          "height": 34
        }
      },
      "source": [
        "nome = str (\"Welbert Isaak\")\n",
        "print (nome)"
      ],
      "execution_count": 4,
      "outputs": [
        {
          "output_type": "stream",
          "text": [
            "Welbert Isaak\n"
          ],
          "name": "stdout"
        }
      ]
    },
    {
      "cell_type": "markdown",
      "metadata": {
        "id": "gHtuvzPHx8dA",
        "colab_type": "text"
      },
      "source": [
        "3. O que o código a seguir imprime?\n",
        "\n",
        "```python\n",
        "print(\"*\\n**\\n***\\n****\\n*****\")\n",
        "```"
      ]
    },
    {
      "cell_type": "code",
      "metadata": {
        "id": "4LCzox1fx8dC",
        "colab_type": "code",
        "outputId": "4218f983-375e-452b-ede5-a6b5aceef0c5",
        "colab": {
          "base_uri": "https://localhost:8080/",
          "height": 102
        }
      },
      "source": [
        "print(\"*\\n**\\n***\\n****\\n*****\")"
      ],
      "execution_count": 5,
      "outputs": [
        {
          "output_type": "stream",
          "text": [
            "*\n",
            "**\n",
            "***\n",
            "****\n",
            "*****\n"
          ],
          "name": "stdout"
        }
      ]
    },
    {
      "cell_type": "markdown",
      "metadata": {
        "id": "vkHxl_ojx8dG",
        "colab_type": "text"
      },
      "source": [
        "4. O que aparece na janela do console, quando cada uma das instruções abaixo são executadas, para: x = 2 e y = 3? Execute cada uma das linhas abaixos e, se necessário, faça os devidos ajustes no código.\n",
        "    1. *print(“x = ” + x);*\n",
        "    2. *print(“O valor de x + x é ” + (x + x));*\n",
        "    3. *print(“x = ”);*\n",
        "    4. *print((x + y) + “ = “ + (y + x));*\n"
      ]
    },
    {
      "cell_type": "code",
      "metadata": {
        "id": "_L0SVpSS6zuV",
        "colab_type": "code",
        "colab": {}
      },
      "source": [
        ""
      ],
      "execution_count": 0,
      "outputs": []
    },
    {
      "cell_type": "code",
      "metadata": {
        "id": "-HZuK_qfx8dH",
        "colab_type": "code",
        "outputId": "02e18ee1-369e-4b44-8a0c-bdacd283aa3d",
        "colab": {
          "base_uri": "https://localhost:8080/",
          "height": 85
        }
      },
      "source": [
        "x = 2\n",
        "y = 3\n",
        "print(\"x = \" + str (x))\n",
        "print(\"O valor de x + x é \" + str (x + x))\n",
        "print(\"x = \")\n",
        "print(\"(x + y) +  = \"  + str (y + x))"
      ],
      "execution_count": 6,
      "outputs": [
        {
          "output_type": "stream",
          "text": [
            "x = 2\n",
            "O valor de x + x é 4\n",
            "x = \n",
            "(x + y) +  = 5\n"
          ],
          "name": "stdout"
        }
      ]
    },
    {
      "cell_type": "markdown",
      "metadata": {
        "id": "AH2_W7Ao77n_",
        "colab_type": "text"
      },
      "source": [
        ""
      ]
    },
    {
      "cell_type": "markdown",
      "metadata": {
        "id": "epvtHNXLx8dK",
        "colab_type": "text"
      },
      "source": [
        "5. Escreva um algoritmo que imprima na tela a seguinte mensagem:\n",
        "\n",
        "> A programação é aprendida escrevendo programas - \n",
        "> Brian Kernighan\n"
      ]
    },
    {
      "cell_type": "code",
      "metadata": {
        "id": "qziRpiP7x8dL",
        "colab_type": "code",
        "outputId": "97ad45d2-0df5-4b28-9d41-c8e40d347b67",
        "colab": {
          "base_uri": "https://localhost:8080/",
          "height": 34
        }
      },
      "source": [
        "print(\"A programação é aprendida escrevendo programas - Brian Kernighan\")"
      ],
      "execution_count": 7,
      "outputs": [
        {
          "output_type": "stream",
          "text": [
            "A programação é aprendida escrevendo programas - Brian Kernighan\n"
          ],
          "name": "stdout"
        }
      ]
    },
    {
      "cell_type": "markdown",
      "metadata": {
        "id": "K931w8aQx8dO",
        "colab_type": "text"
      },
      "source": [
        "6. Crie um algoritmo que imprima o produto entre os números 25 e 27"
      ]
    },
    {
      "cell_type": "code",
      "metadata": {
        "id": "4owsGyGrx8dP",
        "colab_type": "code",
        "outputId": "53f8b566-7440-4a7b-c6c8-03755c6bfa41",
        "colab": {
          "base_uri": "https://localhost:8080/",
          "height": 34
        }
      },
      "source": [
        "print ( 25 * 27 )"
      ],
      "execution_count": 8,
      "outputs": [
        {
          "output_type": "stream",
          "text": [
            "675\n"
          ],
          "name": "stdout"
        }
      ]
    },
    {
      "cell_type": "markdown",
      "metadata": {
        "id": "9qIassakx8dS",
        "colab_type": "text"
      },
      "source": [
        "7. Crie um algoritmo que imprima a média aritmética entre os números 4, 12, 15."
      ]
    },
    {
      "cell_type": "code",
      "metadata": {
        "id": "sBnzqaafx8dT",
        "colab_type": "code",
        "outputId": "ece6e109-ef27-4ef8-e8a1-50075dbf4ccd",
        "colab": {
          "base_uri": "https://localhost:8080/",
          "height": 34
        }
      },
      "source": [
        "print (( 4 + 12 + 15)/3)"
      ],
      "execution_count": 9,
      "outputs": [
        {
          "output_type": "stream",
          "text": [
            "10.333333333333334\n"
          ],
          "name": "stdout"
        }
      ]
    },
    {
      "cell_type": "markdown",
      "metadata": {
        "id": "oMVzkhbFx8dX",
        "colab_type": "text"
      },
      "source": [
        "8. Faça um programa que leia um número inteiro e mostre-o na tela da seguinte forma: \n",
        "\n",
        "> O número inteiro digitado foi 4."
      ]
    },
    {
      "cell_type": "code",
      "metadata": {
        "id": "vRDQKE5Px8dY",
        "colab_type": "code",
        "outputId": "d4b9c0c1-6569-4971-a9fc-e179efdcceef",
        "colab": {
          "base_uri": "https://localhost:8080/",
          "height": 51
        }
      },
      "source": [
        "num = input (\"Digite um numero inteiro: \")\n",
        "print (\"O número inteiro digitado foi: \" + num)"
      ],
      "execution_count": 10,
      "outputs": [
        {
          "output_type": "stream",
          "text": [
            "Digite um numero inteiro: 5\n",
            "O número inteiro digitado foi: 5\n"
          ],
          "name": "stdout"
        }
      ]
    },
    {
      "cell_type": "markdown",
      "metadata": {
        "id": "1DxVIVoyx8da",
        "colab_type": "text"
      },
      "source": [
        "9. Faça um programa que leia e imprima dois números inteiros na tela."
      ]
    },
    {
      "cell_type": "code",
      "metadata": {
        "id": "3N_3Pqptx8db",
        "colab_type": "code",
        "outputId": "86b476da-692b-4663-80d1-c9d42fad8f35",
        "colab": {
          "base_uri": "https://localhost:8080/",
          "height": 85
        }
      },
      "source": [
        "num1 = int(input (\"Digite o primeiro numero inteiro:\"))\n",
        "num2 = int(input (\"Digite o segundo numero inteiro:\"))\n",
        "print (\" 1° Numero: \" + str(num1))\n",
        "print (\" 2° Numero: \" + str(num2))"
      ],
      "execution_count": 11,
      "outputs": [
        {
          "output_type": "stream",
          "text": [
            "Digite o primeiro numero inteiro:5\n",
            "Digite o segundo numero inteiro:6\n",
            " 1° Numero: 5\n",
            " 2° Numero: 6\n"
          ],
          "name": "stdout"
        }
      ]
    },
    {
      "cell_type": "markdown",
      "metadata": {
        "id": "vKDiyRq8x8dg",
        "colab_type": "text"
      },
      "source": [
        "10. Faça um programa que leia um número inteiro e imprima seu número sucessor e antecessor."
      ]
    },
    {
      "cell_type": "code",
      "metadata": {
        "id": "rXajByIFx8dh",
        "colab_type": "code",
        "outputId": "4e0353b0-24a9-4da6-8213-9169a273f677",
        "colab": {
          "base_uri": "https://localhost:8080/",
          "height": 102
        }
      },
      "source": [
        "num = int (input (\"Digite um numero inteiro: \"))\n",
        "print (\"antecessor:\" )     \n",
        "print ( + num -1)\n",
        "print (\"Sucessor:\")\n",
        "print (num +1)"
      ],
      "execution_count": 12,
      "outputs": [
        {
          "output_type": "stream",
          "text": [
            "Digite um numero inteiro: 4\n",
            "antecessor:\n",
            "3\n",
            "Sucessor:\n",
            "5\n"
          ],
          "name": "stdout"
        }
      ]
    },
    {
      "cell_type": "markdown",
      "metadata": {
        "id": "hxLK3Xl6x8dm",
        "colab_type": "text"
      },
      "source": [
        "11. Faça um programa que leia o nome, endereço e telefone de um usuário e imprima na tela."
      ]
    },
    {
      "cell_type": "code",
      "metadata": {
        "id": "A7E6RV7cx8do",
        "colab_type": "code",
        "outputId": "e85b3da7-f521-44d3-9488-a1b2eb15a2b3",
        "colab": {
          "base_uri": "https://localhost:8080/",
          "height": 119
        }
      },
      "source": [
        "nome = input (\"Digite seu nome: \")\n",
        "endereço = input (\"Digite seu endereço: \")\n",
        "telefone = input (\"Digite seu telefone: \")\n",
        "print (\"Nome: \" + nome)\n",
        "print (\"Endereço: \" + endereço)\n",
        "print (\"Telefone: \" + telefone)"
      ],
      "execution_count": 13,
      "outputs": [
        {
          "output_type": "stream",
          "text": [
            "Digite seu nome: 5\n",
            "Digite seu endereço: 555\n",
            "Digite seu telefone: 5\n",
            "Nome: 5\n",
            "Endereço: 555\n",
            "Telefone: 5\n"
          ],
          "name": "stdout"
        }
      ]
    },
    {
      "cell_type": "markdown",
      "metadata": {
        "id": "mA4jO31ux8dq",
        "colab_type": "text"
      },
      "source": [
        "12. Faça um programa que leia e multiplique dois números inteiros."
      ]
    },
    {
      "cell_type": "code",
      "metadata": {
        "id": "aUBseJ1mx8dr",
        "colab_type": "code",
        "outputId": "3d4bef88-453e-4b0f-e9cc-c806987f12ab",
        "colab": {
          "base_uri": "https://localhost:8080/",
          "height": 68
        }
      },
      "source": [
        "num1 = float( input(\"Digite o 1º numero: \"))\n",
        "num2 = float (input (\"Digite o 2º numero: \"))\n",
        "m =  num1 * num2\n",
        "print (\"A multiplicação dos numeros e : \" + str (m))\n",
        "\n",
        "\n",
        "\n"
      ],
      "execution_count": 14,
      "outputs": [
        {
          "output_type": "stream",
          "text": [
            "Digite o 1º numero: 5\n",
            "Digite o 2º numero: 5\n",
            "A multiplicação dos numeros e : 25.0\n"
          ],
          "name": "stdout"
        }
      ]
    },
    {
      "cell_type": "markdown",
      "metadata": {
        "id": "NEaJGmjwx8du",
        "colab_type": "text"
      },
      "source": [
        "13. Faça um programa que leia um número real e imprima a terça parte deste número."
      ]
    },
    {
      "cell_type": "code",
      "metadata": {
        "id": "1sUPEE1ox8dv",
        "colab_type": "code",
        "outputId": "a17a1aaa-85ec-46c7-cd11-214b08e70cf7",
        "colab": {
          "base_uri": "https://localhost:8080/",
          "height": 51
        }
      },
      "source": [
        "num1 = float( input(\"Digite um numero: \"))\n",
        "n = num1/3\n",
        "print (\" A terça parte do numero informado e: \" + str (n))"
      ],
      "execution_count": 15,
      "outputs": [
        {
          "output_type": "stream",
          "text": [
            "Digite um numero: 5\n",
            " A terça parte do numero informado e: 1.6666666666666667\n"
          ],
          "name": "stdout"
        }
      ]
    },
    {
      "cell_type": "markdown",
      "metadata": {
        "id": "7VKK8Dqsx8dx",
        "colab_type": "text"
      },
      "source": [
        "14. Faça um programa que leia dois números inteiros e imprima o dividendo, divisor, quociente e resto da divisão"
      ]
    },
    {
      "cell_type": "code",
      "metadata": {
        "id": "VBSaSz5kx8dz",
        "colab_type": "code",
        "outputId": "f099e9fe-ea47-4f29-bdb9-7352c425b895",
        "colab": {
          "base_uri": "https://localhost:8080/",
          "height": 119
        }
      },
      "source": [
        "num1 = float( input(\"Digite o Dividendo: \"))\n",
        "num2 = float (input (\"Digite o Divisor: \"))\n",
        "quoc = num1/num2\n",
        "resto = num1 % num2\n",
        "print (\"Dividendo: \" + str (num1))\n",
        "print (\"Divisor: \" + str (num2))\n",
        "print (\"Quodiente: \" + str (quoc))\n",
        "print (\"Resto da divisão: \" + str (resto))\n",
        "\n",
        "\n"
      ],
      "execution_count": 16,
      "outputs": [
        {
          "output_type": "stream",
          "text": [
            "Digite o Dividendo: 5\n",
            "Digite o Divisor: 5\n",
            "Dividendo: 5.0\n",
            "Divisor: 5.0\n",
            "Quodiente: 1.0\n",
            "Resto da divisão: 0.0\n"
          ],
          "name": "stdout"
        }
      ]
    },
    {
      "cell_type": "markdown",
      "metadata": {
        "id": "16-UavJRx8d1",
        "colab_type": "text"
      },
      "source": [
        "15. Escreva um programa que solicite do usuário dois números, e imprima o resultado da soma, subtração, multiplicação e divisão."
      ]
    },
    {
      "cell_type": "code",
      "metadata": {
        "id": "638PfH9Ox8d3",
        "colab_type": "code",
        "colab": {
          "base_uri": "https://localhost:8080/",
          "height": 119
        },
        "outputId": "c0bf8e33-3a7a-4e0b-ff21-7e718f424acd"
      },
      "source": [
        "num1 = float( input(\"Digite o 1º numero: \"))\n",
        "num2 = float (input (\"Digite o 2º numero: \"))\n",
        "div = num1/num2\n",
        "soma = num1 + num2\n",
        "subt = num1 - num2\n",
        "multip =num1 * num2\n",
        "print (\"A soma e: \" + str (soma) + \"\\n\" + \"Divisão: \" + str (div) + \"\\n\" + \"Subtração: \" + str (subt)+ \"\\n\" + \"Multiplicação: \" + str (multip) )\n"
      ],
      "execution_count": 17,
      "outputs": [
        {
          "output_type": "stream",
          "text": [
            "Digite o 1º numero: 5\n",
            "Digite o 2º numero: 5\n",
            "A soma e: 10.0\n",
            "Divisão: 1.0\n",
            "Subtração: 0.0\n",
            "Multiplicação: 25.0\n"
          ],
          "name": "stdout"
        }
      ]
    },
    {
      "cell_type": "markdown",
      "metadata": {
        "id": "05tZk_3Jx8d6",
        "colab_type": "text"
      },
      "source": [
        "16. Faça um programa que leia quatro números inteiros, calcule e mostre a soma desses números."
      ]
    },
    {
      "cell_type": "code",
      "metadata": {
        "id": "hMSA34Kvx8d7",
        "colab_type": "code",
        "colab": {
          "base_uri": "https://localhost:8080/",
          "height": 102
        },
        "outputId": "1274568b-973c-4a9b-ebbb-75e3fef84a76"
      },
      "source": [
        "num1 = float( input(\"Digite o 1º numero: \"))\n",
        "num2 = float (input (\"Digite o 2º numero: \"))\n",
        "num3 = float( input(\"Digite o 3º numero: \"))\n",
        "num4 = float (input (\"Digite o 4º numero: \"))\n",
        "soma = num1 + num2 + num3 + num4\n",
        "print (\"A soma dos numeros informados é: \" + str (soma))"
      ],
      "execution_count": 18,
      "outputs": [
        {
          "output_type": "stream",
          "text": [
            "Digite o 1º numero: 5\n",
            "Digite o 2º numero: 5\n",
            "Digite o 3º numero: 5\n",
            "Digite o 4º numero: 5\n",
            "A soma dos numeros informados é: 20.0\n"
          ],
          "name": "stdout"
        }
      ]
    },
    {
      "cell_type": "markdown",
      "metadata": {
        "id": "IsV97Kr9x8d9",
        "colab_type": "text"
      },
      "source": [
        "17. Faça um programa que receba três notas, calcule e mostre a média aritmética."
      ]
    },
    {
      "cell_type": "code",
      "metadata": {
        "id": "1MUz-T-nx8d-",
        "colab_type": "code",
        "outputId": "4301322d-b686-4967-b13f-a0fb31842f75",
        "colab": {
          "base_uri": "https://localhost:8080/",
          "height": 85
        }
      },
      "source": [
        "num1 = float( input(\"Digite a 1º nota: \"))\n",
        "num2 = float (input(\"Digite a 2º nota: \"))\n",
        "num3 = float( input(\"Digite a 3º nota: \"))\n",
        "media = ((num1 + num2 + num3)/3)\n",
        "print (\"A média das notas informadas é: \" + str (media))"
      ],
      "execution_count": 19,
      "outputs": [
        {
          "output_type": "stream",
          "text": [
            "Digite a 1º nota: 5\n",
            "Digite a 2º nota: 6\n",
            "Digite a 3º nota: 7\n",
            "A média das notas informadas é: 6.0\n"
          ],
          "name": "stdout"
        }
      ]
    },
    {
      "cell_type": "markdown",
      "metadata": {
        "id": "1gKOtEvhx8eA",
        "colab_type": "text"
      },
      "source": [
        "18. Faça um programa que receba três notas e seus respectivos pesos, calcule e mostre a média ponderada."
      ]
    },
    {
      "cell_type": "code",
      "metadata": {
        "id": "A3nO6ZA7x8eB",
        "colab_type": "code",
        "outputId": "05287f45-eaed-4d5d-e5be-cfa59af5f17b",
        "colab": {
          "base_uri": "https://localhost:8080/",
          "height": 136
        }
      },
      "source": [
        "nota1 = float( input(\"Digite a 1º nota: \"))\n",
        "nota2 = float(input(\"Digite a 2º nota: \"))\n",
        "nota3 = float( input(\"Digite a 3º nota: \"))\n",
        "peso1 = float( input(\"Digite o 1º peso: \"))\n",
        "peso2 = float(input(\"Digite o 2º peso: \"))\n",
        "peso3 = float( input(\"Digite o 3º peso: \"))\n",
        "imp =  ( float (nota1*peso1) + float (nota2*peso2) + float (nota3*peso3) / float (peso1+peso2+peso3))\n",
        "print (\" A média ponderada das notas e de: \" + str (imp))\n"
      ],
      "execution_count": 20,
      "outputs": [
        {
          "output_type": "stream",
          "text": [
            "Digite a 1º nota: 2\n",
            "Digite a 2º nota: 5\n",
            "Digite a 3º nota: 6\n",
            "Digite o 1º peso: 8\n",
            "Digite o 2º peso: 7\n",
            "Digite o 3º peso: 8\n",
            " A média ponderada das notas e de: 53.08695652173913\n"
          ],
          "name": "stdout"
        }
      ]
    },
    {
      "cell_type": "markdown",
      "metadata": {
        "id": "co2WgPCex8eE",
        "colab_type": "text"
      },
      "source": [
        "19. Faça um programa que receba o salário de um funcionário, calcule e mostre o novo salário, sabendo-se que este sofreu um aumento de 25%."
      ]
    },
    {
      "cell_type": "code",
      "metadata": {
        "id": "WaxUkqItx8eE",
        "colab_type": "code",
        "outputId": "81fc5d48-fc9e-45fc-87ec-41da634649ca",
        "colab": {
          "base_uri": "https://localhost:8080/",
          "height": 51
        }
      },
      "source": [
        "num1 = float (input (\"Digite seu salário R$ \"))\n",
        "aumento = ((25/100) * num1)\n",
        "print (\"Seu novo salário e de R$ \" + str (aumento + num1))"
      ],
      "execution_count": 21,
      "outputs": [
        {
          "output_type": "stream",
          "text": [
            "Digite seu salário R$ 25\n",
            "Seu novo salário e de R$ 31.25\n"
          ],
          "name": "stdout"
        }
      ]
    },
    {
      "cell_type": "markdown",
      "metadata": {
        "id": "T8k62nm7x8eI",
        "colab_type": "text"
      },
      "source": [
        "20. Faça um programa que receba o salário de um funcionário e o percentual de aumento, calcule e mostre o valor do aumento e o novo salário. "
      ]
    },
    {
      "cell_type": "code",
      "metadata": {
        "id": "X1fvbKHHx8eJ",
        "colab_type": "code",
        "outputId": "dde9384b-be81-476a-ee69-5911404434cf",
        "colab": {
          "base_uri": "https://localhost:8080/",
          "height": 85
        }
      },
      "source": [
        "num1 = float (input (\"Digite seu salário R$ \"))\n",
        "num2 = float (input (\"Digite o percentual do aumento: \"))\n",
        "porce = ((num2/100) * num1)\n",
        "print (\"O valor do aumento e de R$ \" + str (porce))\n",
        "print (\"O valor atualizado do seu salário e de R$ \" + str (num1 + porce))"
      ],
      "execution_count": 22,
      "outputs": [
        {
          "output_type": "stream",
          "text": [
            "Digite seu salário R$ 2564\n",
            "Digite o percentual do aumento: 2\n",
            "O valor do aumento e de R$ 51.28\n",
            "O valor atualizado do seu salário e de R$ 2615.28\n"
          ],
          "name": "stdout"
        }
      ]
    },
    {
      "cell_type": "markdown",
      "metadata": {
        "id": "ZgxkmCsZx8eM",
        "colab_type": "text"
      },
      "source": [
        "21. Faça um programa que receba o salário base de um funcionário, calcule e mostre o salário a receber, sabendo-se que o funcionário tem gratificação de 5% sobre o salário base e paga imposto de 7% também sobre o salário base."
      ]
    },
    {
      "cell_type": "code",
      "metadata": {
        "id": "N58VxLDJx8eM",
        "colab_type": "code",
        "outputId": "4320a263-91c2-4626-9662-1be418bd7aac",
        "colab": {
          "base_uri": "https://localhost:8080/",
          "height": 51
        }
      },
      "source": [
        "num1 = float (input (\"Digite seu salário R$ \"))\n",
        "gratif = ((5/100) * num1)\n",
        "impost = ((7/100) * num1)\n",
        "print (\"O valor do salário a receber e de R$ \" + str (num1 + gratif - impost))"
      ],
      "execution_count": 23,
      "outputs": [
        {
          "output_type": "stream",
          "text": [
            "Digite seu salário R$ 256\n",
            "O valor do salário a receber e de R$ 250.88\n"
          ],
          "name": "stdout"
        }
      ]
    },
    {
      "cell_type": "markdown",
      "metadata": {
        "id": "rbuyqzx4x8eP",
        "colab_type": "text"
      },
      "source": [
        "22. Faça um programa que receba o salário base de um funcionário, calcule e mostre seu salário a receber, sabendo-se que o funcionário tem gratificação de R$ 50,00 e paga imposto de 10% sobre o salário base."
      ]
    },
    {
      "cell_type": "code",
      "metadata": {
        "id": "robnUqZ2x8eQ",
        "colab_type": "code",
        "outputId": "41991bf8-ab7b-4638-e0d6-d4722b0bdab2",
        "colab": {
          "base_uri": "https://localhost:8080/",
          "height": 51
        }
      },
      "source": [
        "num1 = float (input (\"Digite seu salário R$ \"))\n",
        "impost = ((10/100) * num1)\n",
        "print (\"O valor do salário a receber e de R$ \" + str (num1 - impost + 50))"
      ],
      "execution_count": 24,
      "outputs": [
        {
          "output_type": "stream",
          "text": [
            "Digite seu salário R$ 564\n",
            "O valor do salário a receber e de R$ 557.6\n"
          ],
          "name": "stdout"
        }
      ]
    },
    {
      "cell_type": "markdown",
      "metadata": {
        "id": "myZzGCwzx8eT",
        "colab_type": "text"
      },
      "source": [
        "23. Faça um programa que receba o valor de um depósito e o valor da taxa de juros, calcule e mostre o valor do rendimento e o valor total depois do rendimento."
      ]
    },
    {
      "cell_type": "code",
      "metadata": {
        "id": "xwZU0o_9x8eU",
        "colab_type": "code",
        "colab": {
          "base_uri": "https://localhost:8080/",
          "height": 85
        },
        "outputId": "631d32f6-3454-4cb8-9a6e-ff37d80663ac"
      },
      "source": [
        "num1 = float (input (\"Digite seu salário R$ \"))\n",
        "num2 = float (input(\"Digite a taxa de juros: \"))\n",
        "re = float (( num1*num2)-num1)\n",
        "refn = float (num1*num2)\n",
        "print (\"O valor do rendimento e de: \" + str(re) + \"\\n\" + \"O rendimento final e de: \" + str (refn))"
      ],
      "execution_count": 29,
      "outputs": [
        {
          "output_type": "stream",
          "text": [
            "Digite seu salário R$ 1000\n",
            "Digite a taxa de juros: 1.25\n",
            "O valor do rendimento e de: 250.0\n",
            "O rendimento final e de: 1250.0\n"
          ],
          "name": "stdout"
        }
      ]
    },
    {
      "cell_type": "markdown",
      "metadata": {
        "id": "scainXF-x8eW",
        "colab_type": "text"
      },
      "source": [
        "24. Faça um programa que calcule e mostre a área de um triângulo. Sabe-se que: \n",
        "> Área = (base * altura) / 2."
      ]
    },
    {
      "cell_type": "code",
      "metadata": {
        "id": "A6o7cJ-Ux8eZ",
        "colab_type": "code",
        "outputId": "a6dfb3a7-6259-4341-cc26-b94556af8da4",
        "colab": {
          "base_uri": "https://localhost:8080/",
          "height": 68
        }
      },
      "source": [
        "base = (float (input (\"Informe a medida de base do triangulo: \")))\n",
        "altura = (float (input (\"Informe a altura do triangulo: \")))\n",
        "area = ((base * altura)/2)\n",
        "print (\"A área do triangulo e de: \" + str (area))"
      ],
      "execution_count": 26,
      "outputs": [
        {
          "output_type": "stream",
          "text": [
            "Informe a medida de base do triangulo: 10\n",
            "Informe a altura do triangulo: 5\n",
            "A área do triangulo e de: 25.0\n"
          ],
          "name": "stdout"
        }
      ]
    },
    {
      "cell_type": "markdown",
      "metadata": {
        "id": "nNFJmEcVx8ec",
        "colab_type": "text"
      },
      "source": [
        "25. Escreva um programa que receba como entrada o raio de um círculo e imprima o diâmetro, a circunferência e a área. Para isso, utilize as fórmulas: diâmetro = 2r; circunferência = 2πr, área = πr²."
      ]
    },
    {
      "cell_type": "code",
      "metadata": {
        "id": "_5Qr7rZFx8ec",
        "colab_type": "code",
        "colab": {
          "base_uri": "https://localhost:8080/",
          "height": 85
        },
        "outputId": "8f9f8b2f-c170-46b8-c4a1-3a0a55822d6e"
      },
      "source": [
        "raio = float (input (\"Informe o Raio: \"))\n",
        "di = 2*raio\n",
        "cir = 2 * (3.14 * raio)\n",
        "area = 3.14 *(raio**2)\n",
        "print (\"A área e: \" + str (area) + \"\\n\" + \"O diâmetro e: \" + str (di) + \"\\n\" + str (\"A circunfenrência e:\" + str (cir)))\n"
      ],
      "execution_count": 32,
      "outputs": [
        {
          "output_type": "stream",
          "text": [
            "Informe o Raio: 10\n",
            "A área e: 314.0\n",
            "O diâmetro e : 20.0\n",
            "A circunfenrência e :62.800000000000004\n"
          ],
          "name": "stdout"
        }
      ]
    },
    {
      "cell_type": "markdown",
      "metadata": {
        "id": "1M1e1_DRx8ee",
        "colab_type": "text"
      },
      "source": [
        "26. Faça um programa que receba um número positivo e maior que zero, calcule e mostre:\n",
        "    1. o número digitado ao quadrado;\n",
        "    2. o número digitado ao cubo;\n",
        "    3. a raiz quadrada do número digitado.\n"
      ]
    },
    {
      "cell_type": "code",
      "metadata": {
        "id": "OQTAeeuCx8ef",
        "colab_type": "code",
        "colab": {
          "base_uri": "https://localhost:8080/",
          "height": 85
        },
        "outputId": "38644911-971f-4c69-8ab2-d688d9744902"
      },
      "source": [
        "num1 = float (input (\"Informe um número: \"))\n",
        "q = num1 ** 2\n",
        "c = num1 **3\n",
        "r = num1 ** 1/2\n",
        "print (\"O numero informado ao quadrado: \" + str (q) + \"\\n\" + \"O numero informado ao cubo: \" + str (c) + \"\\n\" + \"A raiz quadrada do numero informado e: \" + str (r))\n"
      ],
      "execution_count": 35,
      "outputs": [
        {
          "output_type": "stream",
          "text": [
            "Informe um número: 4\n",
            "O numero informado ao quadrado: 16.0\n",
            "O numero informado ao cubo: 64.0\n",
            "A raiz quadrada do numero informado e: 2.0\n"
          ],
          "name": "stdout"
        }
      ]
    },
    {
      "cell_type": "markdown",
      "metadata": {
        "id": "HhCoQSGYx8eh",
        "colab_type": "text"
      },
      "source": [
        "27. Faça um programa que receba dois números maiores que zero, calcule e mostre um elevado ao outro."
      ]
    },
    {
      "cell_type": "code",
      "metadata": {
        "id": "IfM2vTGyx8ei",
        "colab_type": "code",
        "colab": {
          "base_uri": "https://localhost:8080/",
          "height": 68
        },
        "outputId": "65d8c867-5119-46bf-c5d8-ae2f75d37faf"
      },
      "source": [
        "num1 = float (input (\"Informe o 1º numero: \"))\n",
        "num2 = float (input (\"Informe o 2º numero: \"))\n",
        "x = num1**num2\n",
        "print (\"Resultado: \" + str (x))"
      ],
      "execution_count": 38,
      "outputs": [
        {
          "output_type": "stream",
          "text": [
            "Informe o 1º numero: 3\n",
            "Informe o 2º numero: 23\n",
            "Resultado: 94143178827.0\n"
          ],
          "name": "stdout"
        }
      ]
    },
    {
      "cell_type": "markdown",
      "metadata": {
        "id": "cec2Haw4x8ek",
        "colab_type": "text"
      },
      "source": [
        "28. Sabe-se que: pé = 12 polegadas; 1 jarda = 3 pés e 1 milha = 1,760 jarda. Faça um programa que receba uma medida em pés, faça as conversões a seguir e mostre os resultados.\n",
        "    1. polegadas;\n",
        "    2. jardas;\n",
        "    3. milhas.\n"
      ]
    },
    {
      "cell_type": "code",
      "metadata": {
        "id": "0jsyV583x8el",
        "colab_type": "code",
        "colab": {
          "base_uri": "https://localhost:8080/",
          "height": 85
        },
        "outputId": "90b84f59-d075-4045-dba7-24991eda7055"
      },
      "source": [
        "num1 = float (input (\"Informe o numero em pés: \"))\n",
        "pole = num1*12\n",
        "jard = num1/3\n",
        "milh = jard/1760\n",
        "print (\"Polegadas: \" + str (pole) + \"\\n\" + \"Jardas: \" + str (jard) + \"\\n\" + \"Milhas: \" + str (milh))"
      ],
      "execution_count": 41,
      "outputs": [
        {
          "output_type": "stream",
          "text": [
            "Informe o numero em pés: 10\n",
            "Polegadas: 120.0\n",
            "Jardas: 3.3333333333333335\n",
            "Milhas: 0.001893939393939394\n"
          ],
          "name": "stdout"
        }
      ]
    },
    {
      "cell_type": "markdown",
      "metadata": {
        "id": "RLIF2vUwx8eq",
        "colab_type": "text"
      },
      "source": [
        "29. Escreva um programa que receba como entrada um número de 5 dígitos, separe o número em dígitos individuais e os imprima separados por 3 espaços cada um. Por exemplo, se o usuário digitar 42339, o programa deverá imprimir: 4    2    3    3.   Dica: utilize as operações de divisão e módulo para extrair cada dígito do número."
      ]
    },
    {
      "cell_type": "code",
      "metadata": {
        "id": "afHFCj5sx8eq",
        "colab_type": "code",
        "colab": {
          "base_uri": "https://localhost:8080/",
          "height": 51
        },
        "outputId": "335e8e91-8d43-4c02-c238-f33a6242872e"
      },
      "source": [
        "num = int (input (\"Informe um numero de 5 digitos: \"))\n",
        "x = str (num)\n",
        "print (  (format (x[0] )+ \"   \" + format (x[1]) + \"   \" + format (x [2]) + \"   \" + format(x [3]) + \"   \" + format (x [4])))"
      ],
      "execution_count": 3,
      "outputs": [
        {
          "output_type": "stream",
          "text": [
            "Informe um numero de 5 digitos: 42339\n",
            "4   2   3   3   9\n"
          ],
          "name": "stdout"
        }
      ]
    }
  ]
}