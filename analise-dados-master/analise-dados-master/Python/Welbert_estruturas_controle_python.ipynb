{
  "nbformat": 4,
  "nbformat_minor": 0,
  "metadata": {
    "kernelspec": {
      "display_name": "Python 3",
      "language": "python",
      "name": "python3"
    },
    "language_info": {
      "codemirror_mode": {
        "name": "ipython",
        "version": 3
      },
      "file_extension": ".py",
      "mimetype": "text/x-python",
      "name": "python",
      "nbconvert_exporter": "python",
      "pygments_lexer": "ipython3",
      "version": "3.7.4"
    },
    "colab": {
      "name": "Welbert_estruturas_controle_python.ipynb",
      "provenance": [],
      "collapsed_sections": []
    }
  },
  "cells": [
    {
      "cell_type": "markdown",
      "metadata": {
        "id": "rrALdbmC36m4",
        "colab_type": "text"
      },
      "source": [
        "## Estruturas de Controle \n",
        "\n",
        "\n",
        "### Estruturas de Seleção\n",
        "\n",
        "As estruturas de seleção *if* e *if/else* são usadas para controle da execução sequêncial de um programa. \n",
        "Na prática, se uma determinada condição lógica for avaliada como verdadeira, o interpretador Python executa todos os comandos dentro do bloco da estrutura de seleção. \n",
        "Em Python, para a estruturas de seleção única usamos a palavra-chave *if* e para estruturas de seleção múltiplas usamos o nome *elsif*. \n",
        "\n",
        "```python\n",
        " if condicao1:\n",
        "    # Executa quando a condição1 for verdadeira\n",
        " elif condicao2:\n",
        "    # Executa quando a condição2 for verdadeira\n",
        " else:\n",
        "    # Executa quando todas condições não forem satisfeitas\n",
        "```\n",
        "\n",
        "### Estruturas de Repetição\n",
        "\n",
        "O Python possui duas estruturas de repetição, são elas: *for* e *while*. A estrutura de repetição *for*, em sua sintaxe, difere um pouco, por exemplo, das linguagens de programação baseadas em C, onde definimos uma condição de parada (i < n) e um passo de iteração (i++). O comando *for* é usado para percorrer os itens de qualquer sequência (p. ex.: lista, string ou tupla) para que eles apareçam em série ou simplesmente como um laço de repetição (*loop*). "
      ]
    },
    {
      "cell_type": "code",
      "metadata": {
        "id": "u-LdFoWf36m7",
        "colab_type": "code",
        "outputId": "68d3716d-93b8-4d48-e4ae-bee234536a62",
        "colab": {
          "base_uri": "https://localhost:8080/",
          "height": 136
        }
      },
      "source": [
        "cores  = [\"Vermelho\", \"Laranja\", \"Amarelo\", \"Verde\", \"Azul\", \"Anil\", \"Violeta\"]\n",
        "\n",
        "for cor in cores:\n",
        "    print(\"Eu ♥ \" + cor)"
      ],
      "execution_count": 0,
      "outputs": [
        {
          "output_type": "stream",
          "text": [
            "Eu ♥ Vermelho\n",
            "Eu ♥ Laranja\n",
            "Eu ♥ Amarelo\n",
            "Eu ♥ Verde\n",
            "Eu ♥ Azul\n",
            "Eu ♥ Anil\n",
            "Eu ♥ Violeta\n"
          ],
          "name": "stdout"
        }
      ]
    },
    {
      "cell_type": "markdown",
      "metadata": {
        "id": "zjLMCmVG36m_",
        "colab_type": "text"
      },
      "source": [
        "Se você possui alguma experiência anterior com programação, deve estar se perguntando neste exato momento, como podemos percorrer os itens de uma sequência usando índices? Para tal, podemos utilizar a função range() em conjunto com a função len(). A função *range(start, stop, step)* do Python, retorna uma sequência de números, começando em 0 (zero) por padrão, e incrementando de um em um, até o fim de um número especificado como parâmetro. A função len(), por sua vez, retorna o número de itens de uma determina sequência. Acompanhe abaixo, alguns exemplos de como essas funções podem ser usadas em conjunto com a instrução *for* para indexar itens de uma lista."
      ]
    },
    {
      "cell_type": "code",
      "metadata": {
        "id": "Z3fig4pP36nA",
        "colab_type": "code",
        "outputId": "b945f087-131a-4b13-e9af-96c075d2b5aa",
        "colab": {
          "base_uri": "https://localhost:8080/",
          "height": 1000
        }
      },
      "source": [
        "# EXEMPLOS - Função range()\n",
        "lista1 = range(5)\n",
        "lista2 = range(10, 20, 2)\n",
        "lista3 = range(1, 5)\n",
        "lista4 = range(5, -1, -1)\n",
        "\n",
        "print(\"EXEMPLOS: Função range()\\n\")\n",
        "\n",
        "for item in lista1:\n",
        "    print(item) # Para range(5) Saída: [0, 1, 2, 3, 4]\n",
        "\n",
        "print(\"\\n\") \n",
        "    \n",
        "for item in lista2:\n",
        "    print(item) # Para range(10, 20, 2) Saída: [10, 12, 14, 16, 18]\n",
        "\n",
        "print(\"\\n\")     \n",
        "    \n",
        "for item in lista3:\n",
        "    print(item) # Para range(1, 5) Saída: [1, 2, 3, 4]\n",
        "\n",
        "print(\"\\n\")     \n",
        "    \n",
        "for item in lista4:\n",
        "    print(item) # Para range(1, 5) Saída: [1, 2, 3, 4]\n",
        "    \n",
        "    \n",
        "print(\"\\n\")     \n",
        "    \n",
        "    \n",
        "# EXEMPLOS - for, range() e len\n",
        "print(\"EXEMPLOS: for, len() e range()\\n\")\n",
        "\n",
        "\n",
        "# Imprimindo lista de cores\n",
        "cores  = [\"Vermelho\", \"Laranja\", \"Amarelo\", \"Verde\", \"Azul\", \"Anil\", \"Violeta\"]\n",
        "n = len(cores) # a função len() retorna o número de elementos\n",
        "\n",
        "for i in range(n):\n",
        "    print(cores[i])\n",
        "\n",
        "print(\"\\n\")\n",
        "\n",
        "for i in range((n - 1), -1, -1):\n",
        "    print(cores[i])\n",
        "\n",
        "\n",
        "# for aninhado para impressão de um padrão numérico\n",
        "for i in range(10):\n",
        "    for j in range(i):\n",
        "        print(i, end=\" \")    # Imprime o número\n",
        "    print(\"\\n\")              # Adiciona quebra de linha ao final de cada linha"
      ],
      "execution_count": 0,
      "outputs": [
        {
          "output_type": "stream",
          "text": [
            "EXEMPLOS: Função range()\n",
            "\n",
            "0\n",
            "1\n",
            "2\n",
            "3\n",
            "4\n",
            "\n",
            "\n",
            "10\n",
            "12\n",
            "14\n",
            "16\n",
            "18\n",
            "\n",
            "\n",
            "1\n",
            "2\n",
            "3\n",
            "4\n",
            "\n",
            "\n",
            "5\n",
            "4\n",
            "3\n",
            "2\n",
            "1\n",
            "0\n",
            "\n",
            "\n",
            "EXEMPLOS: for, len() e range()\n",
            "\n",
            "Vermelho\n",
            "Laranja\n",
            "Amarelo\n",
            "Verde\n",
            "Azul\n",
            "Anil\n",
            "Violeta\n",
            "\n",
            "\n",
            "Violeta\n",
            "Anil\n",
            "Azul\n",
            "Verde\n",
            "Amarelo\n",
            "Laranja\n",
            "Vermelho\n",
            "\n",
            "\n",
            "1 \n",
            "\n",
            "2 2 \n",
            "\n",
            "3 3 3 \n",
            "\n",
            "4 4 4 4 \n",
            "\n",
            "5 5 5 5 5 \n",
            "\n",
            "6 6 6 6 6 6 \n",
            "\n",
            "7 7 7 7 7 7 7 \n",
            "\n",
            "8 8 8 8 8 8 8 8 \n",
            "\n",
            "9 9 9 9 9 9 9 9 9 \n",
            "\n"
          ],
          "name": "stdout"
        }
      ]
    },
    {
      "cell_type": "markdown",
      "metadata": {
        "id": "GdVPe-1Q36nE",
        "colab_type": "text"
      },
      "source": [
        "Assim como o for, a estrutura de repetição while é usada para repetir um trecho de código várias vezes, porém, no while a repetição continua enquanto uma condição lógica definida seja verdadeira (True), veja alguns exemplos abaixo: \n",
        "\n",
        "```python\n",
        "while condicao: # enquanto condição for verdadeira\n",
        "    # Executa algum(ns) comando(s)\n",
        "    # Atualiza variável de controle\n",
        "```"
      ]
    },
    {
      "cell_type": "code",
      "metadata": {
        "id": "aKwBjYNV36nF",
        "colab_type": "code",
        "outputId": "7c6a6a3d-63c1-41bb-e74e-58e5e5037ed3",
        "colab": {
          "base_uri": "https://localhost:8080/",
          "height": 238
        }
      },
      "source": [
        "contador = 0                 # Define uma variável de controle que será avaliada na condição\n",
        "\n",
        "while contador < 10:         # enquanto a condição (contador < 10) for verdadeira\n",
        "    print(contador)          # Executa algum comando: print(contador)\n",
        "    contador = contador + 1  # Atualiza a variável de controle\n",
        "    \n",
        "print(\"\\n\")\n",
        "\n",
        "\n",
        "# EXEMPLO: Algoritmo Fatorial Iterativo\n",
        "n = 3\n",
        "i = 1\n",
        "resultado = 1\n",
        "\n",
        "while i <= n:\n",
        "    resultado = resultado * i\n",
        "    i = i + 1\n",
        "    \n",
        "print(\"Fatorial de %d é %d\" % (n, resultado))\n",
        "    "
      ],
      "execution_count": 0,
      "outputs": [
        {
          "output_type": "stream",
          "text": [
            "0\n",
            "1\n",
            "2\n",
            "3\n",
            "4\n",
            "5\n",
            "6\n",
            "7\n",
            "8\n",
            "9\n",
            "\n",
            "\n",
            "Fatorial de 3 é 6\n"
          ],
          "name": "stdout"
        }
      ]
    },
    {
      "cell_type": "markdown",
      "metadata": {
        "id": "8O7PrOC736nI",
        "colab_type": "text"
      },
      "source": [
        "### Técnicas de Looping\n",
        "\n",
        "1. Ao percorrer dicionários, a chave e o valor, podem ser recuperados ao mesmo tempo através do método *items()*;\n",
        "\n",
        "```python\n",
        "websites = {'site': \"Python Software Foundation\", 'url': \"https://www.python.org/\"}\n",
        "\n",
        "for key, value in websites.items():\n",
        "    print(key, value)\n",
        "    \n",
        "# Saída\n",
        "# site Python Software Foundation\n",
        "# url https://www.python.org/\n",
        "```\n",
        "\n",
        "2. Ao percorrer sequências, índice e o item, podem ser recuperados ao mesmo tempo através do método *enumerate()*;\n",
        "\n",
        "```python\n",
        "rgb = [\"Red\", \"Green\", \"Blue\"]\n",
        "\n",
        "for i, item in enumerate(rgb):\n",
        "    print(i, item)\n",
        "    \n",
        "# Saída\n",
        "# 0 Red\n",
        "# 1 Green\n",
        "# 2 Blue\n",
        "```\n",
        "\n",
        "3. Para percorrer duas ou mais sequências ao mesmo tempo, as entradas podem ser emparelhadas através da função *zip()*;\n",
        "\n",
        "\n",
        "```python\n",
        "condinomes_android = [\"Petit Four\", \"Eclair\",  \"Honeycomb\", \"Ice Cream Sandwich\", \"Lollipop\", \"Marshmallow\", \"Nougat\", \"Oreo\", \"Pie\"]\n",
        "versoes_android = [\"1.1\", \"2.0 – 2.1\", \"3.0 – 3.2.6\", \"4.0 – 4.0.4\", \"5.0 – 5.1.1\", \"6.0 – 6.0.1\", \"7.0 – 7.1.2\", \"8.0 – 8.1\", \"9.0\"]\n",
        "\n",
        "for codinome, versao in zip(condinomes_android, versoes_android):\n",
        "    print(codinome, versao)\n",
        "    \n",
        "# Saída\n",
        "# Petit Four 1.1\n",
        "# Eclair 2.0 – 2.1\n",
        "# Honeycomb 3.0 – 3.2.6\n",
        "# Ice Cream Sandwich 4.0 – 4.0.4\n",
        "# Lollipop 5.0 – 5.1.1\n",
        "# Marshmallow 6.0 – 6.0.1\n",
        "# Nougat 7.0 – 7.1.2\n",
        "# Oreo 8.0 – 8.1\n",
        "# Pie 9.0\n",
        "```\n",
        "\n",
        "4. Para iterar em uma sequência ordenada sem alterar a ordem dos elementos utilize o metodo *sorted()* que irá retornar uma nova lista ordenada sem alterar a original\n",
        "\n",
        "```python\n",
        "estados_sudeste_brasileiro = [\"São Paulo\", \"Rio de Janeiro\", \"Minas Gerais\", \"Espírito Santo\"]\n",
        "\n",
        "for estado in sorted(set(estados_sudeste_brasileiro)):\n",
        "    print(estado)\n",
        "    \n",
        "# Saída\n",
        "# Espírito Santo\n",
        "# Minas Gerais\n",
        "# Rio de Janeiro\n",
        "# São Paulo    \n",
        "    \n",
        "```"
      ]
    },
    {
      "cell_type": "markdown",
      "metadata": {
        "id": "RHekh8uC36nJ",
        "colab_type": "text"
      },
      "source": [
        "## Exercícios"
      ]
    },
    {
      "cell_type": "markdown",
      "metadata": {
        "id": "tYA5pcfi36nK",
        "colab_type": "text"
      },
      "source": [
        "1. A nota final de um estudante é calculada a partir de três notas atribuídas, respectivamente, a um trabalho\n",
        "de laboratório, a uma avaliação semestral e a um exame final. A média das três notas mencionadas\n",
        "obedece aos pesos a seguir:\n",
        "\n",
        "| Nota                    | Peso |\n",
        "|-------------------------|------|\n",
        "| Trabalho de Laboratório | 2    |\n",
        "| Avaliação Semestral     | 3    |\n",
        "| Exame Final             | 5    |\n",
        "\n",
        "\n",
        "Faça um programa que receba as três notas, calcule e mostre a média ponderada e o conceito que segue\n",
        "a tabela:\n",
        "\n",
        "| Média Ponderada        | Conceito |\n",
        "|------------------------|----------|\n",
        "| 8,00 <= Média <= 10,00 | A        |\n",
        "| 7,00 <= Média < 8,00   | B        |\n",
        "| 6,00 <= Média < 7,00   | C        |\n",
        "| 5,00 <= Média < 6,00   | D        |\n",
        "| 0,00 <= Média < 5,00   | E        |\n",
        "\n"
      ]
    },
    {
      "cell_type": "code",
      "metadata": {
        "id": "APCl3yKv36nL",
        "colab_type": "code",
        "outputId": "03bfd1d4-c3c6-484c-b18c-2ab6943d5cdf",
        "colab": {
          "base_uri": "https://localhost:8080/",
          "height": 85
        }
      },
      "source": [
        "trab = float( input(\"Digite a nota do Trbalho de laboratório: \"))\n",
        "aval = float(input(\"Digite a nota da Avaliação semestral: \"))\n",
        "exam = float( input(\"Digite a nota do exame final: \"))\n",
        "peso_trab = 2\n",
        "peso_aval = 3\n",
        "peso_exam = 5\n",
        "imp =  (( float (trab*peso_trab) + float (aval*peso_aval) + float (exam*peso_exam)) / float (peso_trab+peso_aval+peso_exam))\n",
        "con = \"\"\n",
        "\n",
        "if imp < 5 :\n",
        "  con = \"E\"\n",
        "elif imp >= 5 and imp < 6 :\n",
        "  con = \"D\"\n",
        "elif imp >= 6 and imp < 7 :\n",
        "  con = \"C\"\n",
        "elif imp >= 7 and imp < 8 :\n",
        "  con = \"B\"\n",
        "else :\n",
        "  con = \"A\"\n",
        "  print (\"A média do aluno e : \" + str (imp) + \", é o conceito do aluno e \" + str (con))\n",
        "\n"
      ],
      "execution_count": 0,
      "outputs": [
        {
          "output_type": "stream",
          "text": [
            "Digite a nota do Trbalho de laboratório: 10\n",
            "Digite a nota da Avaliação semestral: 9\n",
            "Digite a nota do exame final: 8\n",
            "A média do aluno e : 8.7, é o conceito do aluno e A\n"
          ],
          "name": "stdout"
        }
      ]
    },
    {
      "cell_type": "markdown",
      "metadata": {
        "id": "DgonxpyX36nO",
        "colab_type": "text"
      },
      "source": [
        "2. Faça um programa que receba três notas de um aluno, calcule e mostre a média aritmética e a mensagem constante na tabela a seguir. \n",
        "\n",
        "| Média                  | Situação       |\n",
        "|------------------------|----------------|\n",
        "| 7,00 <= Média <= 10,00 | Aprovado       |\n",
        "| 3,00 <= Média < 7,00   | Exame Especial |\n",
        "| 0,00 <= Média < 3,00   | Reprovado      |"
      ]
    },
    {
      "cell_type": "code",
      "metadata": {
        "id": "g9yVQNWt36nQ",
        "colab_type": "code",
        "colab": {}
      },
      "source": [
        "nota1 = float( input(\"Digite a 1º nota: \"))\n",
        "nota2 = float( input(\"Digite a 2º nota: \"))\n",
        "nota3 = float( input(\"Digite a 3º nota: \"))\n",
        "md = ((nota1+nota2+nota3)/3)\n",
        "notaf = \"\"\n",
        "if md <= 3 :\n",
        "  notaf = \"Reprovado\"\n",
        "elif md <= 7 and md > 3:\n",
        "  notaf = \"Exame Especial\"\n",
        "else :\n",
        "  notaf = \"Aprovado\"\n",
        "print (\"A média do aluno e : \" + str (md) + \", é a situação do aluno e \" + str (notaf))\n",
        "\n"
      ],
      "execution_count": 0,
      "outputs": []
    },
    {
      "cell_type": "markdown",
      "metadata": {
        "id": "EMUM6ALA36nT",
        "colab_type": "text"
      },
      "source": [
        "3. Faça um programa que receba dois números e mostre o maior."
      ]
    },
    {
      "cell_type": "code",
      "metadata": {
        "id": "sl98wNX436nU",
        "colab_type": "code",
        "colab": {}
      },
      "source": [
        "num1 = float( input(\"Digite o 1º número: \"))\n",
        "num2 = float( input(\"Digite a 2º número: \"))\n",
        "\n",
        "if num1 < num2 :\n",
        "  print (\"O maior numero e: \" + str (num2))\n",
        "else :\n",
        "  print (\"O maior numero e: \" + str (num1))\n",
        " "
      ],
      "execution_count": 0,
      "outputs": []
    },
    {
      "cell_type": "markdown",
      "metadata": {
        "id": "zFFVKC5Y36nX",
        "colab_type": "text"
      },
      "source": [
        "4. Faça um programa que receba um número inteiro e verifique se é par ou ímpar."
      ]
    },
    {
      "cell_type": "code",
      "metadata": {
        "id": "VTxBjA1j36nY",
        "colab_type": "code",
        "colab": {}
      },
      "source": [
        "num1 = int ( input(\"Digite um número inteiro: \"))\n",
        "tipo = \"\"\n",
        "\n",
        "if num1 % 2 == 0 :\n",
        "  tipo = \"Par\"\n",
        "else :\n",
        "  tipo = \"ìmpar\"\n",
        "print (\"O numero informado e \" + str (tipo))"
      ],
      "execution_count": 0,
      "outputs": []
    },
    {
      "cell_type": "markdown",
      "metadata": {
        "id": "JsFyGKj-36nb",
        "colab_type": "text"
      },
      "source": [
        "5. Faça um programa que mostre o menu de opções a seguir, receba a opção do usuário e os dados necessários para executar cada operação.\n",
        "\n",
        "Menu de opções:\n",
        "\n",
        "1. Somar dois números.\n",
        "2. Raiz quadrada de um número.\n",
        "\n",
        "Digite a opção desejada:"
      ]
    },
    {
      "cell_type": "code",
      "metadata": {
        "id": "IzHoocM_36nb",
        "colab_type": "code",
        "colab": {}
      },
      "source": [
        "print (\"Menu de opções:\")\n",
        "opc = int (input ((\"1. Somar dois números\") + \"\\n\" + (\"2. Raiz quadrada de um número.\") + \"\\n\"))\n",
        "\n",
        "if opc == 1 :\n",
        " num1 = int (input (\"Informe o 1º número: \"))\n",
        " num2 = int (input (\"Informe o 2º número: \"))\n",
        " sm = num1 + num2\n",
        " print (\"A soma dos numero e: \" + str (sm))\n",
        "\n",
        "else :\n",
        "   num3 = float (input (\"Informe um numero\"))\n",
        "   raiz = num3 ** 0.5\n",
        "   print (\"A raiz quadrada do numero informado e: \" + str (raiz))\n",
        " \n"
      ],
      "execution_count": 0,
      "outputs": []
    },
    {
      "cell_type": "markdown",
      "metadata": {
        "id": "kSfRQDV336ne",
        "colab_type": "text"
      },
      "source": [
        "6. Faça um programa que receba o código correspondente ao cargo de um funcionário e seu salário atual e mostre o cargo, o valor do aumento e seu novo salário. Os cargos estão na tabela a seguir.\n",
        "\n",
        "| Código | Cargo       | Percentual  |\n",
        "|--------|-------------|-------------|\n",
        "| 1      | Escrituário | 50%         |\n",
        "| 2      | Secretário  | 35%         |\n",
        "| 3      | Caixa       | 20%         |\n",
        "| 4      | Gerente     | 10%         |\n",
        "| 5      | Diretor     | Sem Aumento |"
      ]
    },
    {
      "cell_type": "code",
      "metadata": {
        "id": "N50IsYf936nf",
        "colab_type": "code",
        "outputId": "4ed35ddf-6e33-4924-8a6d-c32e36f5f496",
        "colab": {
          "base_uri": "https://localhost:8080/",
          "height": 68
        }
      },
      "source": [
        "codig = int (input (\"Informe o código do seu cargo: \"))\n",
        "salario = float (input (\"Informe seu asalário: \"))\n",
        "\n",
        "if codig == 1 :\n",
        "  aumento = ((salario *50)/100)\n",
        "  print (\"Escrituário: O valor do seu aumento e de R$ \" + str (aumento) + \", e seu novo salario e de R$ \" + str (salario+aumento))\n",
        "\n",
        "elif codig == 2 :\n",
        "  aumento = ((salario *35)/100)\n",
        "  print (\"Secretário: O valor do seu aumento e de R$ \" + str (aumento) + \", e seu novo salario e de R$ \" + str (salario+aumento))\n",
        "\n",
        "elif codig == 3 :\n",
        "  aumento = ((salario *20)/100)\n",
        "  print (\"Caixa: O valor do seu aumento e de R$ \" + str (aumento) + \", e seu novo salario e de R$ \" + str (salario+aumento))\n",
        "\n",
        "elif codig == 4 :\n",
        "  aumento = ((salario *10)/100)\n",
        "  print (\"Gerente: O valor do seu aumento e de R$ \" + str (aumento) + \", e seu novo salario e de R$ \" + str (salario+aumento))\n",
        "\n",
        "else :\n",
        "  print (\"Diretor: Não houve aumento em seu salário.\")"
      ],
      "execution_count": 0,
      "outputs": [
        {
          "output_type": "stream",
          "text": [
            "Informe o código do seu cargo: 2\n",
            "Informe seu asalário: 500\n",
            "Secretário: O valor do seu aumento e de R$ 175.0, e seu novo salario e de R$ 675.0\n"
          ],
          "name": "stdout"
        }
      ]
    },
    {
      "cell_type": "markdown",
      "metadata": {
        "id": "GY1hLmua36ni",
        "colab_type": "text"
      },
      "source": [
        "7. Faça um programa que receba o salário inicial de um funcionário, calcule e mostre o novo salário, acrescido de bonificação e de auxílio escola.\n",
        "\n",
        "| Salário                      | Bonificação     |\n",
        "|------------------------------|-----------------|\n",
        "| Até R\\\\$500,00                 | 5% do salário  |\n",
        "| Entre R\\\\$500,00 e R\\$1.1200,00 | 12% do salário  \n",
        "| Acima de R\\\\$1.200,00          | Sem Bonificação |\n",
        "\n",
        "| Salário           | Auxílio Escola |\n",
        "|-------------------|----------------|\n",
        "| Até R\\\\$600,00      | R\\\\$150,00       |\n",
        "| Acima de R\\\\$600,00 | R\\\\$100,00       |"
      ]
    },
    {
      "cell_type": "code",
      "metadata": {
        "id": "_Ix5yQke36ni",
        "colab_type": "code",
        "outputId": "34b65b3f-bacd-495a-8dc8-31e95c0725b9",
        "colab": {
          "base_uri": "https://localhost:8080/",
          "height": 51
        }
      },
      "source": [
        "salario = float (input (\"Informe seu salário inicial: \"))\n",
        "\n",
        "if salario <= 500 :\n",
        "  num1 = (((salario*5)/100) + salario+150)\n",
        "  print (\"O valor de seu salário com as bonificaçãoes e auxilio e de R$ \" + str (num1))\n",
        "\n",
        "elif salario > 500 and salario <= 600 :\n",
        "  num1 = (((salario*12)/100) + salario+150)\n",
        "  print (\"O valor de seu salário com as bonificaçãoes e auxilio e de R$ \" + str (num1))\n",
        "\n",
        "elif salario > 600 and salario <= 1200 :\n",
        "      num1 = (((salario*12)/100) + salario +100)\n",
        "      print (\"O valor de seu salário com as bonificaçãoes e auxilio e de R$ \" + str (num1))\n",
        "\n",
        "else :\n",
        "  num1 = (salario+100)\n",
        "  print (\"O valor de seu salário com as bonificaçãoes e auxilio e de R$ \" + str (num1))\n"
      ],
      "execution_count": 0,
      "outputs": [
        {
          "output_type": "stream",
          "text": [
            "Informe seu salário inicial: 1250\n",
            "O valor de seu salário com as bonificaçãoes e auxilio e de R$ 1350.0\n"
          ],
          "name": "stdout"
        }
      ]
    },
    {
      "cell_type": "markdown",
      "metadata": {
        "id": "x51utsbh36nl",
        "colab_type": "text"
      },
      "source": [
        "8. Um supermercado deseja reajustar os preços de seus produtos usando o seguinte critério: o produto poderá ter seu preço aumentado ou diminuído. Para o preço ser alterado, o produto deve preencher pelo menos um dos requisitos a seguir:\n",
        "\n",
        "| Venda Média Mensal | Preço Atual             | % de Aumento | % de Diminuição |\n",
        "|--------------------|-------------------------|--------------|-----------------|\n",
        "| < 500              | < R\\\\$ 30,00              | 10           | -               |\n",
        "| >= 500 e < 1.200   | >= R\\\\$30,00 e < R\\\\$ 80,00 | 15           | -               |\n",
        "| >= 1.200           | >= R\\\\$80,00              | -            | 20              |"
      ]
    },
    {
      "cell_type": "code",
      "metadata": {
        "id": "OfhCy7iB36nm",
        "colab_type": "code",
        "colab": {}
      },
      "source": [
        ""
      ],
      "execution_count": 0,
      "outputs": []
    },
    {
      "cell_type": "markdown",
      "metadata": {
        "id": "yWoGPqW736np",
        "colab_type": "text"
      },
      "source": [
        "9. Faça um programa para resolver equações do 2º grau.\n",
        "\n",
        "$$\n",
        "a^{2} + bx + c = 0\n",
        "$$\n",
        "\n",
        "\n",
        "Onde x é uma variável, sendo a, b e c constantes, com a ≠ 0 \n",
        "\n",
        "\n",
        "$$\n",
        "\\Delta = b^{2} - 4ac\n",
        "$$\n",
        "\n",
        "$$\n",
        "\\Delta < 0 \\rightarrow não \\: existe  \\: raiz  \\: real\n",
        "$$\n",
        "\n",
        "$$\n",
        "\\Delta = 0 \\rightarrow  existe  \\: raiz  \\: real\n",
        "$$\n",
        "\n",
        "$$\n",
        "x = \\frac{-b}{2a}\n",
        "$$\n",
        "\n",
        "\n",
        "\n",
        "$$\n",
        "\\Delta > 0 \\rightarrow existem \\: duas  \\: raizes  \\: reais\n",
        "$$\n",
        "\n",
        "\n",
        "$$\n",
        "x_1 = \\frac{-b \\: + \\: \\sqrt{\\Delta } }{2a}\n",
        "$$\n",
        "\n",
        "$$\n",
        "x_2 = \\frac{-b \\: - \\: \\sqrt{\\Delta } }{2a}\n",
        "$$"
      ]
    },
    {
      "cell_type": "code",
      "metadata": {
        "id": "k1wC7qHL36nq",
        "colab_type": "code",
        "colab": {}
      },
      "source": [
        ""
      ],
      "execution_count": 0,
      "outputs": []
    },
    {
      "cell_type": "markdown",
      "metadata": {
        "id": "nKhEUPJP36ns",
        "colab_type": "text"
      },
      "source": [
        "10. Dados três valores X, Y e Z, verifique se eles podem ser os comprimentos dos lados de um triângulo e, se forem, verifique se é um triângulo equilátero, isósceles ou escaleno. Se eles não formarem um triângulo, escreva uma mensagem. Considere que:\n",
        "\n",
        "- O comprimento de cada lado de um triângulo é menor que a soma dos outros dois lados;\n",
        "- Chama-se equilátero o triângulo que tem três lados iguais;\n",
        "- Denomina-se isósceles o triângulo que tem o comprimento de dois lados iguais;\n",
        "- Recebe o nome de escaleno o triângulo que tem os três lados diferentes."
      ]
    },
    {
      "cell_type": "code",
      "metadata": {
        "id": "PISx5kBn36nu",
        "colab_type": "code",
        "colab": {}
      },
      "source": [
        ""
      ],
      "execution_count": 0,
      "outputs": []
    },
    {
      "cell_type": "markdown",
      "metadata": {
        "id": "k9-Q2Ekq36nw",
        "colab_type": "text"
      },
      "source": [
        "11. Faça um programa que receba a altura e o peso de uma pessoa. De acordo com a tabela a seguir, verifique e mostre a classificação dessa pessoa.\n",
        "\n",
        "| Altura           | Peso até 60 | Peso entre 60 e 90 (Inclusive) | Peso Acima de 90 |\n",
        "|------------------|-------------|--------------------------------|------------------|\n",
        "| Menores que 1,20 | A           | D                              | G                |\n",
        "| De 1,20 a 1,70   | B           | E                              | H                |\n",
        "| Maiores que 1,70 | C           | F                              | I                |"
      ]
    },
    {
      "cell_type": "code",
      "metadata": {
        "id": "nq6QV_QD36nx",
        "colab_type": "code",
        "outputId": "5ca836fd-9e18-4665-9662-8eb8336b9fb1",
        "colab": {
          "base_uri": "https://localhost:8080/",
          "height": 68
        }
      },
      "source": [
        "alt =  float (input (\"Informe sua altura: \"))\n",
        "peso = float (input (\"Informe seu peso: \"))\n",
        "\n",
        "if alt < 1.20 and peso <= 60 :\n",
        "  print (\"A\")\n",
        "elif alt < 1.20 and peso > 60 and peso < 90 :\n",
        "  print (\"D\")\n",
        "elif alt < 1.20 and peso > 90 :\n",
        "  print(\"G\")\n",
        "elif alt >= 1.20 and alt <= 1.70 and peso <= 60 :\n",
        "  print (\"B\")\n",
        "elif alt >= 1.20 and alt <= 1.70 and peso > 60 and peso <90 :\n",
        "  print (\"E\")\n",
        "elif alt >= 1.20 and alt <= 1.70 and peso > 90 :\n",
        "  print (\"H\")\n",
        "elif alt > 1.70 and peso <= 60 :\n",
        "  print (\"C\")\n",
        "elif alt > 1.70 and peso > 60 and peso <90 :\n",
        "  print (\"F\")\n",
        "else :\n",
        "  print (\"I\")"
      ],
      "execution_count": 0,
      "outputs": [
        {
          "output_type": "stream",
          "text": [
            "Informe sua altura: 1.50\n",
            "Informe seu peso: 100\n",
            "H\n"
          ],
          "name": "stdout"
        }
      ]
    },
    {
      "cell_type": "markdown",
      "metadata": {
        "id": "rPFkDYnW36nz",
        "colab_type": "text"
      },
      "source": [
        "12. Faça um programa que receba:\n",
        "\n",
        "- O código de um produto comprado, supondo que a digitação do código do produto seja sempre válida, isto é, um número inteiro entre 1 e 10.\n",
        "- O peso do produto em quilos.\n",
        "- O código do país de origem, supondo que a digitação do código seja sempre válida, isto é, um número inteiro entre 1 e 3. \n",
        "\n",
        "Tabelas:\n",
        "\n",
        "| Código do País de Origem | Imposto |\n",
        "|--------------------------|---------|\n",
        "| 1                        | 0%      |\n",
        "| 2                        | 15%     |\n",
        "| 3                        | 25%     |\n",
        "\n",
        "\n",
        "| Código do Produto | Preço por Grama |\n",
        "|-------------------|-----------------|\n",
        "| 1 a 4             | 10              |\n",
        "| 5 a 7             | 25              |\n",
        "| 8 a 10            | 35              |"
      ]
    },
    {
      "cell_type": "code",
      "metadata": {
        "id": "2XbP5PgC36n1",
        "colab_type": "code",
        "colab": {
          "base_uri": "https://localhost:8080/",
          "height": 85
        },
        "outputId": "8d903f0d-3de2-4548-dff1-84b52398e114"
      },
      "source": [
        "codp = int (input (\"Informe o código de produto:\"))\n",
        "peso = float (input (\"Informe o peso do produto em quilos: \"))\n",
        "pais = int (input (\"Informe o código do pais de origem: \"))\n",
        "\n",
        "if codp <= 4 and pais ==1 :\n",
        "   val = (float(peso * 1000) * 10)\n",
        "   print (\"O valor de seu produto e de R$ \" + str (val))\n",
        "elif codp <= 4 and pais == 2:\n",
        "     val = (float(peso * 1000) * 10)\n",
        "     imp = (float ((val*15)/100))\n",
        "     print (\"O valor de seu produto e de R$ \" + str (imp))\n",
        "elif codp <= 4 and pais == 3:\n",
        "     val = (float(peso * 1000) * 10)\n",
        "     imp = (float ((val*25)/100))\n",
        "     print (\"O valor de seu produto e de R$ \" + str (imp))\n",
        "elif codp >=5 and codp <=7 and pais == 1:\n",
        "  val = (float(peso * 1000) * 25)\n",
        "  print (\"O valor de seu produto e de R$ \" + str(imp))\n",
        "elif codp >=5 and codp <=7 and pais == 2:\n",
        "  val = (float(peso * 1000) * 25)\n",
        "  imp = (float ((val*15)/100))\n",
        "  print (\"O valor de seu produto e de R$ \" + str(imp))\n",
        "elif codp >=5 and codp <=7 and pais == 3:\n",
        "  val = (float(peso * 1000) * 25)\n",
        "  imp = (float ((val*25)/100))\n",
        "  print (\"O valor de seu produto e de R$ \" + str(imp))\n",
        "elif codp >=8 and pais == 1:\n",
        "  val = (float(peso * 1000) * 3)\n",
        "  print (\"O valor de seu produto e de R$ \" + str(imp))\n",
        "elif codp >=8 and pais == 2:\n",
        "  val = (float(peso * 1000) * 35)\n",
        "  imp = (float ((val*15)/100))\n",
        "  print (\"O valor de seu produto e de R$ \" + str(imp))\n",
        "elif codp >=8 and pais == 3:\n",
        "  val = (float(peso * 1000) * 35)\n",
        "  imp = (float ((val*25)/100))\n",
        "  print (\"O valor de seu produto e de R$ \" + str(imp))\n",
        "\n"
      ],
      "execution_count": 9,
      "outputs": [
        {
          "output_type": "stream",
          "text": [
            "Informe o código de produto:8\n",
            "Informe o peso do produto em quilos: 1\n",
            "Informe o código do pais de origem: 2\n",
            "O valor de seu produto e de R$ 5250.0\n"
          ],
          "name": "stdout"
        }
      ]
    },
    {
      "cell_type": "markdown",
      "metadata": {
        "id": "CXOEydEA36n4",
        "colab_type": "text"
      },
      "source": [
        "13. Escreva um programa que calcule o quadrado e o cubo dos números de 0 a 10, e imprima os valores em forma de tabela. Número | Quadrado | Cubo"
      ]
    },
    {
      "cell_type": "code",
      "metadata": {
        "id": "s4-DRTmP36n5",
        "colab_type": "code",
        "colab": {}
      },
      "source": [
        ""
      ],
      "execution_count": 0,
      "outputs": []
    },
    {
      "cell_type": "markdown",
      "metadata": {
        "id": "j1Xw-Ooh36n8",
        "colab_type": "text"
      },
      "source": [
        "14. Um funcionário de uma empresa recebe, anualmente, aumento salarial. Sabe-se que:\n",
        "\n",
        "- Esse funcionário foi contratado em 2005, com salário inicial de R\\\\$ 1.000,00.\n",
        "- Em 2006, ele recebeu aumento de 1,5% sobre seu salário inicial.\n",
        "- A partir de 2007 (inclusive), os aumentos salariais sempre corresponderam ao dobro do percentual do ano anterior.\n",
        "\n",
        "Faça um programa que determine o salário atual desse funcionário."
      ]
    },
    {
      "cell_type": "code",
      "metadata": {
        "id": "Iz3Brc2336n8",
        "colab_type": "code",
        "colab": {}
      },
      "source": [
        ""
      ],
      "execution_count": 0,
      "outputs": []
    },
    {
      "cell_type": "markdown",
      "metadata": {
        "id": "zowLMITW36n-",
        "colab_type": "text"
      },
      "source": [
        "15. Foi feita uma pesquisa para determinar o índice de mortalidade infantil em certo período. Faça um programa que:\n",
        "\n",
        "- Leia o número de crianças nascidas no período;\n",
        "- Identifique o sexo (M ou F) e o tempo de vida de cada criança nascida.\n",
        "\n",
        "O programa deve calcular e mostrar:\n",
        "\n",
        "- A porcentagem de crianças do sexo feminino mortas no período;\n",
        "- A porcentagem de crianças do sexo masculino mortas no período;\n",
        "- A porcentagem de crianças que viveram 24 meses ou menos no período."
      ]
    },
    {
      "cell_type": "code",
      "metadata": {
        "id": "_8yzhRCA36n_",
        "colab_type": "code",
        "colab": {}
      },
      "source": [
        ""
      ],
      "execution_count": 0,
      "outputs": []
    },
    {
      "cell_type": "markdown",
      "metadata": {
        "id": "sjsZrns136oB",
        "colab_type": "text"
      },
      "source": [
        "16. Faça um programa que receba duas notas de seis alunos. Calcule e mostre:\n",
        "\n",
        "- A média aritmética das duas notas de cada aluno; e\n",
        "- A mensagem que está na tabela a seguir:\n",
        "- O total de alunos aprovados;\n",
        "- O total de alunos de exame;\n",
        "- O total de alunos reprovados;\n",
        "- A média da classe.\n",
        "\n",
        "| Média Aritmética | Situação       |\n",
        "|------------------|----------------|\n",
        "| Entre 0 e 29     | Reprovado      |\n",
        "| Entre 30 e 69    | Exame Especial |\n",
        "| Entre 70 e 100   | Aprovado       |\n"
      ]
    },
    {
      "cell_type": "code",
      "metadata": {
        "id": "A5dyHIcW36oC",
        "colab_type": "code",
        "colab": {}
      },
      "source": [
        ""
      ],
      "execution_count": 0,
      "outputs": []
    },
    {
      "cell_type": "markdown",
      "metadata": {
        "id": "h_tCHk1s36oE",
        "colab_type": "text"
      },
      "source": [
        "17. Faça um programa para calcular a área de um triângulo e que não permita a entrada de dados inválidos, ou seja, medidas menores ou iguais a 0."
      ]
    },
    {
      "cell_type": "code",
      "metadata": {
        "id": "qvxTqF6W36oF",
        "colab_type": "code",
        "colab": {}
      },
      "source": [
        ""
      ],
      "execution_count": 0,
      "outputs": []
    },
    {
      "cell_type": "markdown",
      "metadata": {
        "id": "LalaEjBz36oH",
        "colab_type": "text"
      },
      "source": [
        "18. Faça um programa que leia um conjunto não determinado de valores e mostre o valor lido, seu quadrado, seu cubo e sua raiz quadrada. Finalize a entrada de dados com um valor negativo ou zero."
      ]
    },
    {
      "cell_type": "code",
      "metadata": {
        "id": "zTzut-6t36oI",
        "colab_type": "code",
        "colab": {}
      },
      "source": [
        ""
      ],
      "execution_count": 0,
      "outputs": []
    },
    {
      "cell_type": "markdown",
      "metadata": {
        "id": "VVywW8_236oK",
        "colab_type": "text"
      },
      "source": [
        "19. Faça um programa que leia um número não determinado de pares de valores [m,n], todos inteiros e positivos, um par de cada vez, e que calcule e mostre a soma de todos os números inteiros entre m e n (inclusive). A digitação de pares terminará quando m for maior ou igual a n."
      ]
    },
    {
      "cell_type": "code",
      "metadata": {
        "id": "uae4t_2336oL",
        "colab_type": "code",
        "colab": {}
      },
      "source": [
        ""
      ],
      "execution_count": 0,
      "outputs": []
    },
    {
      "cell_type": "markdown",
      "metadata": {
        "id": "e71UPLvw36oO",
        "colab_type": "text"
      },
      "source": [
        "20. Faça um programa que receba vários números, calcule e mostre:\n",
        "\n",
        "    - A soma dos números digitados;\n",
        "    - A quantidade de números digitados;\n",
        "    - A média dos números digitados;\n",
        "    - O maior número digitado;\n",
        "    - O menor número digitado;\n",
        "    - A média dos números pares;\n",
        "    - A porcentagem dos números ímpares entre todos os números digitados.\n",
        "\n",
        "Finalize a entrada de dados com a digitação do número 0."
      ]
    },
    {
      "cell_type": "code",
      "metadata": {
        "id": "G0KOkWLx36oP",
        "colab_type": "code",
        "colab": {}
      },
      "source": [
        ""
      ],
      "execution_count": 0,
      "outputs": []
    }
  ]
}